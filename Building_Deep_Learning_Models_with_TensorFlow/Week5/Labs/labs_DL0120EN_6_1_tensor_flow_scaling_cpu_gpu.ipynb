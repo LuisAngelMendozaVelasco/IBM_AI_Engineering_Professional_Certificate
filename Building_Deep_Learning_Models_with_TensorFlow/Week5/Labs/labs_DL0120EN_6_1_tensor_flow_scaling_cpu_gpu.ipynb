{
  "cells": [
    {
      "cell_type": "markdown",
      "metadata": {
        "id": "01a2d2a9-7c92-460b-a7b8-1d480479d224"
      },
      "source": [
        "<img src=\"https://cf-courses-data.s3.us.cloud-object-storage.appdomain.cloud/IBMDeveloperSkillsNetwork-DL0120EN-SkillsNetwork/images/IDSN-logo.png\" width=\"300\" alt=\"cognitiveclass.ai logo\">\n"
      ]
    },
    {
      "cell_type": "markdown",
      "metadata": {
        "id": "9e8880c4-8186-4eb4-a320-f7bd49103e8c"
      },
      "source": [
        "# Lab: Scaling on CPU and GPU\n",
        "\n",
        "Welcome to the lab, first we wanna make sure we are on TensorFlow 2.x\n",
        "\n",
        "Please start with 1 vCPU and then use 2, 4, 8 and 16 (and optionally 1 or 2 GPUs)\n",
        "\n",
        "Note down execution times and compute/plot scale up factor\n"
      ]
    },
    {
      "cell_type": "code",
      "execution_count": 1,
      "metadata": {
        "vscode": {
          "languageId": "python"
        },
        "id": "e40344e1-2abc-41a2-aa92-66d15b8bcddd"
      },
      "outputs": [],
      "source": [
        "# !pip install tensorflow==2.9.0"
      ]
    },
    {
      "cell_type": "markdown",
      "metadata": {
        "id": "2c9790bc-99ee-47f9-a7fe-d79b6b40b7db"
      },
      "source": [
        "**Restart kernel for latest version of TensorFlow to be activated, then continue to the next section.**\n"
      ]
    },
    {
      "cell_type": "code",
      "execution_count": 2,
      "metadata": {
        "vscode": {
          "languageId": "python"
        },
        "colab": {
          "base_uri": "https://localhost:8080/"
        },
        "id": "c4421832-eb99-4bed-9933-da7f5bd84204",
        "outputId": "c567cdef-3beb-4034-ed15-3eb6ce4dd8b5"
      },
      "outputs": [
        {
          "output_type": "stream",
          "name": "stdout",
          "text": [
            "2.15.0\n"
          ]
        }
      ],
      "source": [
        "import tensorflow as tf\n",
        "import time\n",
        "import numpy as np\n",
        "print(tf.__version__)\n",
        "\n",
        "# from IPython.display import Markdown, display\n",
        "# def printmd(string):\n",
        "#     display(Markdown('# <span style=\"color:red\">'+string+'</span>'))\n",
        "\n",
        "# if not tf.__version__ == '2.9.0':\n",
        "#     printmd('<<<<<!!!!! Please install TensorFlow 2.9.0 and PLEASE RESTART the jupyter kernel using the menue above !!!!!>>>>>')"
      ]
    },
    {
      "cell_type": "markdown",
      "metadata": {
        "id": "fa5546e8-ff17-4dea-8b38-c5deb5cc3f21"
      },
      "source": [
        "Let's check out if there are GPUs available\n"
      ]
    },
    {
      "cell_type": "code",
      "execution_count": 3,
      "metadata": {
        "vscode": {
          "languageId": "python"
        },
        "colab": {
          "base_uri": "https://localhost:8080/"
        },
        "id": "ed49abbf-2c8d-4b54-9519-363b1f334567",
        "outputId": "66951eae-0b13-4d0a-9aef-c5850ca5f567"
      },
      "outputs": [
        {
          "output_type": "stream",
          "name": "stdout",
          "text": [
            "GPUs found, this will be fun!\n"
          ]
        }
      ],
      "source": [
        "if len(tf.config.experimental.list_physical_devices('GPU')) > 0:\n",
        "    print('GPUs found, this will be fun!')"
      ]
    },
    {
      "cell_type": "markdown",
      "metadata": {
        "id": "7e5c99f4-24d6-4f46-adda-6b4d51e9ccf7"
      },
      "source": [
        "Let's create some data (e.g. two random matrices of shape 10000x10000)\n"
      ]
    },
    {
      "cell_type": "code",
      "execution_count": 4,
      "metadata": {
        "vscode": {
          "languageId": "python"
        },
        "id": "47bd41eb-e3b0-4669-958f-8ccaa69350f7"
      },
      "outputs": [],
      "source": [
        "size = 10000\n",
        "a = tf.random.uniform(shape=[size, size])\n",
        "b = tf.random.uniform(shape=[size, size])"
      ]
    },
    {
      "cell_type": "markdown",
      "metadata": {
        "id": "8531a120-6cf4-478c-8e02-a4f8cc56a954"
      },
      "source": [
        "Let's multiply them together and measure time (execute the following cell at least 3 times and take the minimum to account for cache misses). Please run this notebook in different runtimes configurations to get the execution times.\n"
      ]
    },
    {
      "cell_type": "markdown",
      "metadata": {
        "id": "77c1a920-2d9b-4c5f-9958-d53b5741dde2"
      },
      "source": [
        "To change the execution environment configuration please click on the ![image.png](attachment:image.png) symbol within Watson Studio. In the \"Environment\" tab you can choose and change the \"Environment definition\".\n"
      ]
    },
    {
      "cell_type": "markdown",
      "metadata": {
        "id": "c1647ea0-07b5-4e10-a308-ecec7bb4ac17"
      },
      "source": [
        "We recommend that you go the the \"Environment\" tab in the Watson Studio Project settings and create the environments first ![image.png](attachment:image.png)\n"
      ]
    },
    {
      "cell_type": "markdown",
      "metadata": {
        "id": "9aeab52e-7976-4d1c-82d4-f5fc470c5b6b"
      },
      "source": [
        "Once done, it should look similar to this\n",
        "![image.png](attachment:image.png)\n"
      ]
    },
    {
      "cell_type": "code",
      "execution_count": 5,
      "metadata": {
        "vscode": {
          "languageId": "python"
        },
        "colab": {
          "base_uri": "https://localhost:8080/"
        },
        "id": "f748e5b4-0ebf-47c5-9681-6c9a99b481b6",
        "outputId": "8bb54d74-c70d-4458-cfa9-fe5b77839163"
      },
      "outputs": [
        {
          "output_type": "stream",
          "name": "stdout",
          "text": [
            "0.1480705738067627\n"
          ]
        }
      ],
      "source": [
        "start = time.time()\n",
        "c = tf.matmul(a, b)\n",
        "print(time.time()-start)"
      ]
    },
    {
      "cell_type": "markdown",
      "metadata": {
        "id": "be63f674-fec7-4d52-9ac1-ee3b08f16b59"
      },
      "source": [
        "Please update the execution times below for the different runtime configurations with your values (1,2,4,8,16 CPU, optional 1,2,4 GPU)\n"
      ]
    },
    {
      "cell_type": "code",
      "execution_count": 6,
      "metadata": {
        "vscode": {
          "languageId": "python"
        },
        "colab": {
          "base_uri": "https://localhost:8080/"
        },
        "id": "558f8d21-1578-4645-a42b-e3a752a9ced4",
        "outputId": "5c46cd06-a852-4dbc-c7dc-83c27dc13140"
      },
      "outputs": [
        {
          "output_type": "execute_result",
          "data": {
            "text/plain": [
              "{'cpu_1x': 35.3118622303009,\n",
              " 'cpu_2x': 15.228885173797607,\n",
              " 'cpu_4x': 10.392901182174683,\n",
              " 'cpu_8x': 6.591029644012451,\n",
              " 'cpu_16x': 2.9781200885772705}"
            ]
          },
          "metadata": {},
          "execution_count": 6
        }
      ],
      "source": [
        "execution_times_cpu = {\n",
        "    'cpu_1x': 35.3118622303009,\n",
        "    'cpu_2x': 15.228885173797607,\n",
        "    'cpu_4x': 10.392901182174683,\n",
        "    'cpu_8x': 6.591029644012451,\n",
        "    'cpu_16x': 2.9781200885772705\n",
        "}\n",
        "execution_times_cpu"
      ]
    },
    {
      "cell_type": "code",
      "execution_count": 7,
      "metadata": {
        "vscode": {
          "languageId": "python"
        },
        "colab": {
          "base_uri": "https://localhost:8080/"
        },
        "id": "9ebbbfa8-0d00-42a0-9948-725a9938945a",
        "outputId": "1f7ebeeb-ed39-4c7f-bc27-9cefd2b11adb"
      },
      "outputs": [
        {
          "output_type": "execute_result",
          "data": {
            "text/plain": [
              "{'gpu_1x': 0.0012249946594238281,\n",
              " 'gpu_2x': 0.0007076263427734375,\n",
              " 'gpu_4x': 0.0006804466247558594}"
            ]
          },
          "metadata": {},
          "execution_count": 7
        }
      ],
      "source": [
        "execution_times_gpu = {\n",
        "    'gpu_1x': 0.0012249946594238281,\n",
        "    'gpu_2x': 0.0007076263427734375,\n",
        "    'gpu_4x': 0.0006804466247558594\n",
        "}\n",
        "execution_times_gpu"
      ]
    },
    {
      "cell_type": "markdown",
      "metadata": {
        "id": "c31d7ccc-091b-484d-84d8-b636b74e9978"
      },
      "source": [
        "Merge CPU and GPU results\n"
      ]
    },
    {
      "cell_type": "code",
      "execution_count": 8,
      "metadata": {
        "vscode": {
          "languageId": "python"
        },
        "colab": {
          "base_uri": "https://localhost:8080/"
        },
        "id": "47ce9218-64fb-4830-a374-25287efe0c0c",
        "outputId": "8bb0715e-7bec-4db8-fc4e-edd86b9c5271"
      },
      "outputs": [
        {
          "output_type": "execute_result",
          "data": {
            "text/plain": [
              "{'cpu_1x': 35.3118622303009,\n",
              " 'cpu_2x': 15.228885173797607,\n",
              " 'cpu_4x': 10.392901182174683,\n",
              " 'cpu_8x': 6.591029644012451,\n",
              " 'cpu_16x': 2.9781200885772705,\n",
              " 'gpu_1x': 0.0012249946594238281,\n",
              " 'gpu_2x': 0.0007076263427734375,\n",
              " 'gpu_4x': 0.0006804466247558594}"
            ]
          },
          "metadata": {},
          "execution_count": 8
        }
      ],
      "source": [
        "execution_times_cpu_gpu = {}\n",
        "execution_times_cpu_gpu.update(execution_times_cpu)\n",
        "execution_times_cpu_gpu.update(execution_times_gpu)\n",
        "execution_times_cpu_gpu"
      ]
    },
    {
      "cell_type": "markdown",
      "metadata": {
        "id": "357e313d-4ba8-49c1-a02a-aeff8847600d"
      },
      "source": [
        "Compute normalized speedup factors for CPU, GPU and combindes runs\n"
      ]
    },
    {
      "cell_type": "code",
      "execution_count": 9,
      "metadata": {
        "vscode": {
          "languageId": "python"
        },
        "id": "c6097279-92d0-4fa2-80a9-4efd1d9f92d1"
      },
      "outputs": [],
      "source": [
        "max_time_cpu = np.max(list(execution_times_cpu.values()))\n",
        "max_time_gpu = np.max(list(execution_times_gpu.values()))\n",
        "max_time_cpu_gpu = np.max(list(execution_times_cpu_gpu.values()))"
      ]
    },
    {
      "cell_type": "code",
      "execution_count": 10,
      "metadata": {
        "vscode": {
          "languageId": "python"
        },
        "id": "04295d32-f8cc-4b5a-a806-756c553c5598"
      },
      "outputs": [],
      "source": [
        "execution_times_norm_cpu = np.array(1) / (np.array(list(execution_times_cpu.values())) / max_time_cpu)\n",
        "execution_times_norm_gpu = np.array(1) / (np.array(list(execution_times_gpu.values())) / max_time_gpu)\n",
        "execution_times_norm_cpu_gpu = np.array(1) / (np.array(list(execution_times_cpu_gpu.values())) / max_time_cpu_gpu)"
      ]
    },
    {
      "cell_type": "markdown",
      "metadata": {
        "id": "facac2b9-6a1a-4ce1-97a7-14c47be612ed"
      },
      "source": [
        "Plot the results\n"
      ]
    },
    {
      "cell_type": "code",
      "execution_count": 11,
      "metadata": {
        "vscode": {
          "languageId": "python"
        },
        "colab": {
          "base_uri": "https://localhost:8080/",
          "height": 447
        },
        "id": "5cc12fe1-2dad-4e53-a24c-01983fbc95c2",
        "outputId": "b81158ad-5b0c-4d35-f601-6f29631e9773"
      },
      "outputs": [
        {
          "output_type": "execute_result",
          "data": {
            "text/plain": [
              "[Text(0, 0.5, 'speedup')]"
            ]
          },
          "metadata": {},
          "execution_count": 11
        },
        {
          "output_type": "display_data",
          "data": {
            "text/plain": [
              "<Figure size 640x480 with 1 Axes>"
            ],
            "image/png": "[encoded data removed]"
          },
          "metadata": {}
        }
      ],
      "source": [
        "# %matplotlib inline\n",
        "import seaborn as sns\n",
        "sns.set_style(\"whitegrid\")\n",
        "\n",
        "sns.barplot(x=np.array(list(execution_times_cpu.keys())), y=execution_times_norm_cpu).set(ylabel='speedup')"
      ]
    },
    {
      "cell_type": "code",
      "execution_count": 12,
      "metadata": {
        "vscode": {
          "languageId": "python"
        },
        "colab": {
          "base_uri": "https://localhost:8080/",
          "height": 447
        },
        "id": "0d8a6592-173e-4b0a-99e7-819e0651ad2b",
        "outputId": "1ca6c5c0-54ea-4a42-efe3-1c4f7b639214"
      },
      "outputs": [
        {
          "output_type": "execute_result",
          "data": {
            "text/plain": [
              "[Text(0, 0.5, 'speedup')]"
            ]
          },
          "metadata": {},
          "execution_count": 12
        },
        {
          "output_type": "display_data",
          "data": {
            "text/plain": [
              "<Figure size 640x480 with 1 Axes>"
            ],
            "image/png": "[encoded data removed]"
          },
          "metadata": {}
        }
      ],
      "source": [
        "sns.barplot(x=np.array(list(execution_times_gpu.keys())), y=execution_times_norm_gpu).set(ylabel='speedup')"
      ]
    },
    {
      "cell_type": "code",
      "execution_count": 13,
      "metadata": {
        "vscode": {
          "languageId": "python"
        },
        "colab": {
          "base_uri": "https://localhost:8080/",
          "height": 447
        },
        "id": "d3c7ae3e-7e9d-436c-947e-d03d9341cf86",
        "outputId": "b0c66ef1-f0a1-4387-ee1b-54ee9379a58e"
      },
      "outputs": [
        {
          "output_type": "execute_result",
          "data": {
            "text/plain": [
              "[Text(0, 0.5, 'speedup')]"
            ]
          },
          "metadata": {},
          "execution_count": 13
        },
        {
          "output_type": "display_data",
          "data": {
            "text/plain": [
              "<Figure size 640x480 with 1 Axes>"
            ],
            "image/png": "[encoded data removed]"
          },
          "metadata": {}
        }
      ],
      "source": [
        "sns.barplot(x=np.array(list(execution_times_cpu_gpu.keys())), y=execution_times_norm_cpu_gpu).set(ylabel='speedup')"
      ]
    },
    {
      "cell_type": "markdown",
      "metadata": {
        "id": "cbe5489d-e5bd-42d3-93f9-33f9cadcc2d1"
      },
      "source": [
        "As you can clearly see going from a single CPU core to a single GPU gives us a speedup of more than four orders of magnitude. So large scale deep learning network training has to be done on GPUs if possible\n"
      ]
    }
  ],
  "metadata": {
    "kernelspec": {
      "display_name": "Python",
      "language": "python",
      "name": "conda-env-python-py"
    },
    "language_info": {
      "name": ""
    },
    "colab": {
      "provenance": [],
      "gpuType": "T4"
    },
    "accelerator": "GPU"
  },
  "nbformat": 4,
  "nbformat_minor": 0
}