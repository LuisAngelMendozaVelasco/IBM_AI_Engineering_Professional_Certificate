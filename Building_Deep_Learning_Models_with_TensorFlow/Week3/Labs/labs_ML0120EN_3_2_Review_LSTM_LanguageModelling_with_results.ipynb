{
  "cells": [
    {
      "cell_type": "markdown",
      "metadata": {
        "id": "028791ea-1047-4bfa-8817-4096a18f72e8"
      },
      "source": [
        "<img src=\"https://cf-courses-data.s3.us.cloud-object-storage.appdomain.cloud/IBMDeveloperSkillsNetwork-DL0120EN-SkillsNetwork/images/IDSN-logo.png\" width=\"300\" alt=\"cognitiveclass.ai logo\">\n",
        "\n",
        "<h1 align=\"center\"><font size=\"5\">RECURRENT NETWORKS and LSTM IN DEEP LEARNING</font></h1>\n"
      ]
    },
    {
      "cell_type": "markdown",
      "metadata": {
        "id": "1ee9e017-da77-4612-b86b-0b130cc1a229"
      },
      "source": [
        "Estimated time needed: **30** minutes\n"
      ]
    },
    {
      "cell_type": "markdown",
      "metadata": {
        "id": "b661ff6c-4ae7-4215-ba05-032ba99b0571"
      },
      "source": [
        "<h2>Applying Recurrent Neural Networks/LSTM for Language Modeling</h2>\n",
        "Hello and welcome to this part. In this notebook, we will go over the topic of Language Modelling, and create a Recurrent Neural Network model based on the Long Short-Term Memory unit to train and benchmark on the Penn Treebank dataset. By the end of this notebook, you should be able to understand how TensorFlow builds and executes a RNN model for Language Modelling.\n"
      ]
    },
    {
      "cell_type": "markdown",
      "metadata": {
        "id": "30f0a964-c517-414f-8745-926d12927734"
      },
      "source": [
        "<h2>The Objective</h2>\n",
        "By now, you should have an understanding of how Recurrent Networks work -- a specialized model to process sequential data by keeping track of the \"state\" or context. In this notebook, we go over a TensorFlow code snippet for creating a model focused on <b>Language Modelling</b> -- a very relevant task that is the cornerstone of many different linguistic problems such as <b>Speech Recognition, Machine Translation and Image Captioning</b>. For this, we will be using the Penn Treebank dataset, which is an often-used dataset for benchmarking Language Modelling models.\n"
      ]
    },
    {
      "cell_type": "markdown",
      "metadata": {
        "id": "fd8984c1-8f8e-42a3-8ed5-603349fc04e2"
      },
      "source": [
        "\n",
        "<h2>Table of Contents</h2>\n",
        "<ol>\n",
        "    <li><a href=\"#language_modelling\">What exactly is Language Modelling?</a></li>\n",
        "    <li><a href=\"#treebank_dataset\">The Penn Treebank dataset</a></li>\n",
        "    <li><a href=\"#word_embedding\">Word Embedding</a></li>\n",
        "    <li><a href=\"#building_lstm_model\">Building the LSTM model for Language Modeling</a></li>\n",
        "    <li><a href=\"#ltsm\">LTSM</a></li>\n",
        "</ol>\n",
        "<p></p>\n",
        "</div>\n",
        "<br>\n"
      ]
    },
    {
      "cell_type": "markdown",
      "metadata": {
        "id": "9a964784-0904-4fea-8bb7-ad2946de6823"
      },
      "source": [
        "--------\n"
      ]
    },
    {
      "cell_type": "markdown",
      "metadata": {
        "id": "05f3eab2-ae4c-4584-a4a0-512e2104dd8c"
      },
      "source": [
        "<a id=\"language_modelling\"></a>\n",
        "<h2>What exactly is Language Modelling?</h2>\n",
        "Language Modelling, to put it simply, <b>is the task of assigning probabilities to sequences of words</b>. This means that, given a context of one or a sequence of words in the language the model was trained on, the model should provide the next most probable words or sequence of words that follows from the given sequence of words the sentence. Language Modelling is one of the most important tasks in Natural Language Processing.\n",
        "\n",
        "<img src=\"https://ibm.box.com/shared/static/1d1i5gub6wljby2vani2vzxp0xsph702.png\" width=\"1080\">\n",
        "<center><i>Example of a sentence being predicted</i></center>\n",
        "<br><br>\n",
        "In this example, one can see the predictions for the next word of a sentence, given the context \"This is an\". As you can see, this boils down to a sequential data analysis task -- you are given a word or a sequence of words (the input data), and, given the context (the state), you need to find out what is the next word (the prediction). This kind of analysis is very important for language-related tasks such as <b>Speech Recognition, Machine Translation, Image Captioning, Text Correction</b> and many other very relevant problems.\n",
        "\n",
        "<img src=\"https://ibm.box.com/shared/static/az39idf9ipfdpc5ugifpgxnydelhyf3i.png\" width=\"1080\">\n",
        "<center><i>The above example is a schema of an RNN in execution</i></center>\n",
        "<br><br>\n",
        "As the above image shows, Recurrent Network models fit this problem like a glove. Alongside LSTM and its capacity to maintain the model's state for over one thousand time steps, we have all the tools we need to undertake this problem. The goal for this notebook is to create a model that can reach <b>low levels of perplexity</b> on our desired dataset.\n",
        "\n",
        "For Language Modelling problems, <b>perplexity</b> is the way to gauge efficiency. Perplexity is simply a measure of how well a probabilistic model is able to predict its sample. A higher-level way to explain this would be saying that <b>low perplexity means a higher degree of trust in the predictions the model makes</b>. Therefore, the lower perplexity is, the better.\n"
      ]
    },
    {
      "cell_type": "markdown",
      "metadata": {
        "id": "e2b753b5-faa8-4843-ab07-60bc82d31608"
      },
      "source": [
        "<a id=\"treebank_dataset\"></a>\n",
        "<h2>The Penn Treebank dataset</h2>\n",
        "Historically, datasets big enough for Natural Language Processing are hard to come by. This is in part due to the necessity of the sentences to be broken down and tagged with a certain degree of correctness -- or else the models trained on it won't be able to be correct at all. This means that we need a <b>large amount of data, annotated by or at least corrected by humans</b>. This is, of course, not an easy task at all.\n",
        "\n",
        "The Penn Treebank, or PTB for short, is a dataset maintained by the University of Pennsylvania. It is <i>huge</i> -- there are over <b>four million and eight hundred thousand</b> annotated words in it, all corrected by humans. It is composed of many different sources, from abstracts of Department of Energy papers to texts from the Library of America. Since it is verifiably correct and of such a huge size, the Penn Treebank is commonly used as a benchmark dataset for Language Modelling.\n",
        "\n",
        "The dataset is divided in different kinds of annotations, such as Piece-of-Speech, Syntactic and Semantic skeletons. For this example, we will simply use a sample of clean, non-annotated words (with the exception of one tag --<code>&lt;unk&gt;</code>\n",
        ", which is used for rare words such as uncommon proper nouns) for our model. This means that we just want to predict what the next words would be, not what they mean in context or their classes on a given sentence.\n",
        "\n",
        "<center>Example of text from the dataset we are going to use, <b>ptb.train</b></center>\n",
        "<br><br>\n",
        "\n",
        "<div class=\"alert alert-block alert-info\" style=\"margin-top: 20px\">\n",
        "    <center>the percentage of lung cancer deaths among the workers at the west <code>&lt;unk&gt;</code> mass. paper factory appears to be the highest for any asbestos workers studied in western industrialized countries he said\n",
        " the plant which is owned by <code>&lt;unk&gt;</code> & <code>&lt;unk&gt;</code> co. was under contract with <code>&lt;unk&gt;</code> to make the cigarette filters\n",
        " the finding probably will support those who argue that the U.S. should regulate the class of asbestos including <code>&lt;unk&gt;</code> more <code>&lt;unk&gt;</code> than the common kind of asbestos <code>&lt;unk&gt;</code> found in most schools and other buildings dr. <code>&lt;unk&gt;</code> said</center>\n",
        "</div>\n"
      ]
    },
    {
      "cell_type": "markdown",
      "metadata": {
        "id": "9301454c-ded1-498a-ba83-17c0402bebf5"
      },
      "source": [
        "<a id=\"word_embedding\"></a>\n",
        "<h2>Word Embeddings</h2><br/>\n",
        "\n",
        "For better processing, in this example, we will make use of <a href=\"https://www.tensorflow.org/tutorials/word2vec/?utm_medium=Exinfluencer&utm_source=Exinfluencer&utm_content=000026UJ&utm_term=10006555&utm_id=NA-SkillsNetwork-Channel-SkillsNetworkCoursesIBMDeveloperSkillsNetworkDL0120ENSkillsNetwork954-2023-01-01\"><b>word embeddings</b></a>, which is <b>a way of representing sentence structures or words as n-dimensional vectors (where n is a reasonably high number, such as 200 or 500) of real numbers</b>. Basically, we will assign each word a randomly-initialized vector, and input those into the network to be processed. After a number of iterations, these vectors are expected to assume values that help the network to correctly predict what it needs to -- in our case, the probable next word in the sentence. This is shown to be a very effective task in Natural Language Processing, and is a commonplace practice.\n",
        "<br><br>\n",
        "<font size=\"4\"><strong>\n",
        "$$Vec(\"Example\") = [0.02, 0.00, 0.00, 0.92, 0.30, \\ldots]$$\n",
        "</strong></font>\n",
        "<br>\n",
        "Word Embedding tends to group up similarly used words <i>reasonably</i> close together in the vectorial space. For example, if we use T-SNE (a dimensional reduction visualization algorithm) to flatten the dimensions of our vectors into a 2-dimensional space and plot these words in a 2-dimensional space, we might see something like this:\n",
        "\n",
        "<img src=\"https://ibm.box.com/shared/static/bqhc5dg879gcoabzhxra1w8rkg3od1cu.png\" width=\"800\">\n",
        "<center><i>T-SNE Mockup with clusters marked for easier visualization</i></center>\n",
        "<br><br>\n",
        "As you can see, words that are frequently used together, in place of each other, or in the same places as them tend to be grouped together -- being closer together the higher they are correlated. For example, \"None\" is pretty semantically close to \"Zero\", while a phrase that uses \"Italy\", you could probably also fit \"Germany\" in it, with little damage to the sentence structure. The vectorial \"closeness\" for similar words like this is a great indicator of a well-built model.\n",
        "\n",
        "<hr>\n",
        "\n"
      ]
    },
    {
      "cell_type": "markdown",
      "metadata": {
        "id": "211b1a44-45ce-48e5-8eec-afca3d0a819a"
      },
      "source": [
        "We need to import the necessary modules for our code. We need <b><code>numpy</code></b> and <b><code>tensorflow</code></b>, obviously. Additionally, we can import directly the <b><code>tensorflow.models.rnn</code></b> model, which includes the function for building RNNs, and <b><code>tensorflow.models.rnn.ptb.reader</code></b> which is the helper module for getting the input data from the dataset we just downloaded.\n",
        "\n",
        "If you want to learn more take a look at https://github.com/tensorflow/models/blob/master/tutorials/rnn/ptb/reader.py\n"
      ]
    },
    {
      "cell_type": "code",
      "execution_count": 1,
      "metadata": {
        "id": "9b6179e0-637d-4edc-8087-134cca898b7e"
      },
      "outputs": [],
      "source": [
        "# !pip install tensorflow==2.9.0\n",
        "# !pip install numpy==1.21.4"
      ]
    },
    {
      "cell_type": "code",
      "execution_count": 2,
      "metadata": {
        "colab": {
          "base_uri": "https://localhost:8080/"
        },
        "id": "b164a02b-e24f-45f0-b3be-807308eae8f3",
        "outputId": "a0adc67c-d3ef-41d6-995e-9cb81d1edd23"
      },
      "outputs": [
        {
          "name": "stdout",
          "output_type": "stream",
          "text": [
            "2.15.0\n"
          ]
        }
      ],
      "source": [
        "import time\n",
        "import numpy as np\n",
        "import tensorflow as tf\n",
        "print(tf.__version__)\n",
        "# if not tf.__version__ == '2.9.0':\n",
        "#     print(tf.__version__)\n",
        "#     raise ValueError('please upgrade to TensorFlow 2.9.0, or restart your Kernel (Kernel->Restart & Clear Output)')"
      ]
    },
    {
      "cell_type": "markdown",
      "metadata": {
        "id": "04133b9e-bb65-418e-9a91-b997c6dcc148"
      },
      "source": [
        "IMPORTANT! => Please restart the kernel by clicking on \"Kernel\"->\"Restart and Clear Outout\" and wait until all output disapears. Then your changes are beeing picked up\n"
      ]
    },
    {
      "cell_type": "code",
      "execution_count": 3,
      "metadata": {
        "id": "dc0795ab-2162-46f1-bd89-f08db72abf55"
      },
      "outputs": [],
      "source": [
        "#!mkdir data\n",
        "#!mkdir data/ptb\n",
        "#!wget -q -O data/ptb/reader.py https://cf-courses-data.s3.us.cloud-object-storage.appdomain.cloud/IBMDeveloperSkillsNetwork-DL0120EN-SkillsNetwork/labs/Week3/data/ptb/reader.py\n",
        "#!cp data/ptb/reader.py ."
      ]
    },
    {
      "cell_type": "code",
      "execution_count": 4,
      "metadata": {
        "id": "01c1e584-ebff-4cc0-a701-affc8a5c00d2"
      },
      "outputs": [],
      "source": [
        "# Copyright 2015 The TensorFlow Authors. All Rights Reserved.\n",
        "#\n",
        "# Licensed under the Apache License, Version 2.0 (the \"License\");\n",
        "# you may not use this file except in compliance with the License.\n",
        "# You may obtain a copy of the License at\n",
        "#\n",
        "#     http://www.apache.org/licenses/LICENSE-2.0\n",
        "#\n",
        "# Unless required by applicable law or agreed to in writing, software\n",
        "# distributed under the License is distributed on an \"AS IS\" BASIS,\n",
        "# WITHOUT WARRANTIES OR CONDITIONS OF ANY KIND, either express or implied.\n",
        "# See the License for the specific language governing permissions and\n",
        "# limitations under the License.\n",
        "# ==============================================================================\n",
        "\n",
        "\"\"\"Utilities for parsing PTB text files.\"\"\"\n",
        "from __future__ import absolute_import\n",
        "from __future__ import division\n",
        "from __future__ import print_function\n",
        "\n",
        "import collections\n",
        "import os\n",
        "\n",
        "import numpy as np\n",
        "import tensorflow as tf\n",
        "\n",
        "def _read_words(filename):\n",
        "    with tf.io.gfile.GFile(filename, \"r\") as f:\n",
        "        return f.read().replace(\"\\n\", \"<eos>\").split()\n",
        "\n",
        "def _build_vocab(filename):\n",
        "    data = _read_words(filename)\n",
        "\n",
        "    counter = collections.Counter(data)\n",
        "    count_pairs = sorted(counter.items(), key=lambda x: (-x[1], x[0]))\n",
        "\n",
        "    words, _ = list(zip(*count_pairs))\n",
        "    word_to_id = dict(zip(words, range(len(words))))\n",
        "\n",
        "    return word_to_id\n",
        "\n",
        "def _file_to_word_ids(filename, word_to_id):\n",
        "    data = _read_words(filename)\n",
        "    return [word_to_id[word] for word in data if word in word_to_id]\n",
        "\n",
        "def ptb_raw_data(data_path=None):\n",
        "    \"\"\"Load PTB raw data from data directory \"data_path\".\n",
        "\n",
        "    Reads PTB text files, converts strings to integer ids,\n",
        "    and performs mini-batching of the inputs.\n",
        "\n",
        "    The PTB dataset comes from Tomas Mikolov's webpage:\n",
        "\n",
        "    http://www.fit.vutbr.cz/~imikolov/rnnlm/simple-examples.tgz\n",
        "\n",
        "    Args:\n",
        "        data_path: string path to the directory where simple-examples.tgz has\n",
        "        been extracted.\n",
        "\n",
        "    Returns:\n",
        "        tuple (train_data, valid_data, test_data, vocabulary)\n",
        "        where each of the data objects can be passed to PTBIterator.\n",
        "    \"\"\"\n",
        "\n",
        "    train_path = os.path.join(data_path, \"ptb.train.txt\")\n",
        "    valid_path = os.path.join(data_path, \"ptb.valid.txt\")\n",
        "    test_path = os.path.join(data_path, \"ptb.test.txt\")\n",
        "\n",
        "    word_to_id = _build_vocab(train_path)\n",
        "    train_data = _file_to_word_ids(train_path, word_to_id)\n",
        "    valid_data = _file_to_word_ids(valid_path, word_to_id)\n",
        "    test_data = _file_to_word_ids(test_path, word_to_id)\n",
        "    vocabulary = len(word_to_id)\n",
        "    return train_data, valid_data, test_data, vocabulary, word_to_id\n",
        "\n",
        "\n",
        "def ptb_iterator(raw_data, batch_size, num_steps):\n",
        "    \"\"\"Iterate on the raw PTB data.\n",
        "\n",
        "    This generates batch_size pointers into the raw PTB data, and allows\n",
        "    minibatch iteration along these pointers.\n",
        "\n",
        "    Args:\n",
        "        raw_data: one of the raw data outputs from ptb_raw_data.\n",
        "        batch_size: int, the batch size.\n",
        "        num_steps: int, the number of unrolls.\n",
        "\n",
        "    Yields:\n",
        "        Pairs of the batched data, each a matrix of shape [batch_size, num_steps].\n",
        "        The second element of the tuple is the same data time-shifted to the\n",
        "        right by one.\n",
        "\n",
        "    Raises:\n",
        "        ValueError: if batch_size or num_steps are too high.\n",
        "    \"\"\"\n",
        "    raw_data = np.array(raw_data, dtype=np.int32)\n",
        "\n",
        "    data_len = len(raw_data)\n",
        "    batch_len = data_len // batch_size\n",
        "    data = np.zeros([batch_size, batch_len], dtype=np.int32)\n",
        "    for i in range(batch_size):\n",
        "        data[i] = raw_data[batch_len * i:batch_len * (i + 1)]\n",
        "\n",
        "    epoch_size = (batch_len - 1) // num_steps\n",
        "\n",
        "    if epoch_size == 0:\n",
        "        raise ValueError(\"epoch_size == 0, decrease batch_size or num_steps\")\n",
        "\n",
        "    for i in range(epoch_size):\n",
        "        x = data[:, i*num_steps:(i+1)*num_steps]\n",
        "        y = data[:, i*num_steps+1:(i+1)*num_steps+1]\n",
        "        yield (x, y)"
      ]
    },
    {
      "cell_type": "markdown",
      "metadata": {
        "id": "2f3b359b-09a1-4333-b1a7-aa034a1a82b2"
      },
      "source": [
        "<a id=\"building_lstm_model\"></a>\n",
        "<h2>Building the LSTM model for Language Modeling</h2>\n",
        "Now that we know exactly what we are doing, we can start building our model using TensorFlow. The very first thing we need to do is download and extract the <code>simple-examples</code> dataset, which can be done by executing the code cell below.\n"
      ]
    },
    {
      "cell_type": "code",
      "execution_count": 5,
      "metadata": {
        "colab": {
          "base_uri": "https://localhost:8080/"
        },
        "id": "c04ec0b2-0d54-4902-8958-0c119c681533",
        "outputId": "ae312c98-7823-47cf-e084-fac3fb80935e"
      },
      "outputs": [
        {
          "name": "stdout",
          "output_type": "stream",
          "text": [
            "--2024-02-27 22:29:19--  http://www.fit.vutbr.cz/~imikolov/rnnlm/simple-examples.tgz\n",
            "Resolving www.fit.vutbr.cz (www.fit.vutbr.cz)... 147.229.9.23, 2001:67c:1220:809::93e5:917\n",
            "Connecting to www.fit.vutbr.cz (www.fit.vutbr.cz)|147.229.9.23|:80... connected.\n",
            "HTTP request sent, awaiting response... 200 OK\n",
            "Length: 34869662 (33M) [application/x-gtar]\n",
            "Saving to: ‘simple-examples.tgz’\n",
            "\n",
            "simple-examples.tgz 100%[===================>]  33.25M  7.47MB/s    in 4.7s    \n",
            "\n",
            "2024-02-27 22:29:25 (7.10 MB/s) - ‘simple-examples.tgz’ saved [34869662/34869662]\n",
            "\n"
          ]
        }
      ],
      "source": [
        "!mkdir data\n",
        "!wget http://www.fit.vutbr.cz/~imikolov/rnnlm/simple-examples.tgz\n",
        "!tar xzf simple-examples.tgz -C data/\n",
        "!rm simple-examples.tgz"
      ]
    },
    {
      "cell_type": "markdown",
      "metadata": {
        "id": "87a3d1dc-02d0-4236-ae5e-25a670aa2ff6"
      },
      "source": [
        "Additionally, for the sake of making it easy to play around with the model's hyperparameters, we can declare them beforehand. Feel free to change these -- you will see a difference in performance each time you change those!  \n"
      ]
    },
    {
      "cell_type": "code",
      "execution_count": 6,
      "metadata": {
        "id": "03819248-6bee-43d3-b0ae-07dbfb394b84"
      },
      "outputs": [],
      "source": [
        "#Initial weight scale\n",
        "init_scale = 0.1\n",
        "#Initial learning rate\n",
        "learning_rate = 1.0\n",
        "#Maximum permissible norm for the gradient (For gradient clipping -- another measure against Exploding Gradients)\n",
        "max_grad_norm = 5\n",
        "#The number of layers in our model\n",
        "num_layers = 2\n",
        "#The total number of recurrence steps, also known as the number of layers when our RNN is \"unfolded\"\n",
        "num_steps = 20\n",
        "#The number of processing units (neurons) in the hidden layers\n",
        "hidden_size_l1 = 256\n",
        "hidden_size_l2 = 128\n",
        "#The maximum number of epochs trained with the initial learning rate\n",
        "max_epoch_decay_lr = 4\n",
        "#The total number of epochs in training\n",
        "max_epoch = 15\n",
        "#The probability for keeping data in the Dropout Layer (This is an optimization, but is outside our scope for this notebook!)\n",
        "#At 1, we ignore the Dropout Layer wrapping.\n",
        "keep_prob = 1\n",
        "#The decay for the learning rate\n",
        "decay = 0.5\n",
        "#The size for each batch of data\n",
        "batch_size = 30\n",
        "#The size of our vocabulary\n",
        "vocab_size = 10000\n",
        "embeding_vector_size= 200\n",
        "#Training flag to separate training from testing\n",
        "is_training = 1\n",
        "#Data directory for our dataset\n",
        "data_dir = \"data/simple-examples/data/\""
      ]
    },
    {
      "cell_type": "markdown",
      "metadata": {
        "id": "649c65b1-4a91-451c-9349-ec1c6dfe94d4"
      },
      "source": [
        "Some clarifications for LSTM architecture based on the arguments:\n",
        "\n",
        "Network structure:\n",
        "<ul>\n",
        "    <li>In this network, the number of LSTM cells are 2. To give the model more expressive power, we can add multiple layers of LSTMs to process the data. The output of the first layer will become the input of the second and so on.\n",
        "    </li>\n",
        "    <li>The recurrence steps is 20, that is, when our RNN is \"Unfolded\", the recurrence step is 20.</li>   \n",
        "    <li>the structure is like:\n",
        "        <ul>\n",
        "            <li>200 input units -> [200x200] Weight -> 200 Hidden units (first layer) -> [200x200] Weight matrix  -> 200 Hidden units (second layer) ->  [200] weight Matrix -> 200 unit output</li>\n",
        "        </ul>\n",
        "    </li>\n",
        "</ul>\n",
        "<br>\n",
        "\n",
        "Input layer:\n",
        "<ul>\n",
        "    <li>The network has 200 input units.</li>\n",
        "    <li>Suppose each word is represented by an embedding vector of dimensionality e=200. The input layer of each cell will have 200 linear units. These e=200 linear units are connected to each of the h=200 LSTM units in the hidden layer (assuming there is only one hidden layer, though our case has 2 layers).\n",
        "    </li>\n",
        "    <li>The input shape is [batch_size, num_steps], that is [30x20]. It will turn into [30x20x200] after embedding, and then 20x[30x200]\n",
        "    </li>\n",
        "</ul>\n",
        "<br>\n",
        "\n",
        "Hidden layer:\n",
        "<ul>\n",
        "    <li>Each LSTM has 200 hidden units which is equivalent to the dimensionality of the embedding words and output.</li>\n",
        "</ul>\n",
        "<br>\n"
      ]
    },
    {
      "cell_type": "markdown",
      "metadata": {
        "id": "bf8b88ac-f063-44ba-a8b1-0d52755721f7"
      },
      "source": [
        "There is a lot to be done and a ton of information to process at the same time, so go over this code slowly. It may seem complex at first, but if you try to apply what you just learned about language modelling to the code you see, you should be able to understand it.\n",
        "\n",
        "This code is adapted from the <a href=\"https://github.com/tensorflow/models\">PTBModel</a> example bundled with the TensorFlow source code.\n",
        "\n",
        "\n",
        "<h3>Training data</h3>\n",
        "The story starts from data:\n",
        "<ul>\n",
        "    <li>Train data is a list of words, of size 929589, represented by numbers, e.g. [9971, 9972, 9974, 9975,...]</li>\n",
        "    <li>We read data as mini-batch of size b=30. Assume the size of each sentence is 20 words (num_steps = 20). Then it will take $$floor(\\frac{N}{b \\times h})+1=1548$$ iterations for the learner to go through all sentences once. Where N is the size of the list of words, b is batch size, and h is size of each sentence. So, the number of iterators is 1548\n",
        "    </li>\n",
        "    <li>Each batch data is read from train dataset of size 600, and shape of [30x20]</li>\n",
        "</ul>\n"
      ]
    },
    {
      "cell_type": "code",
      "execution_count": 7,
      "metadata": {
        "id": "d1f43ab5-6d25-4009-a70f-76ef9bd75a48"
      },
      "outputs": [],
      "source": [
        "# Reads the data and separates it into training data, validation data and testing data\n",
        "raw_data = ptb_raw_data(data_dir)\n",
        "train_data, valid_data, test_data, vocab, word_to_id = raw_data"
      ]
    },
    {
      "cell_type": "code",
      "execution_count": 8,
      "metadata": {
        "colab": {
          "base_uri": "https://localhost:8080/"
        },
        "id": "d7975bcb-719b-4763-bde3-b52821fb6b6c",
        "outputId": "9f5e03ef-1839-4513-c15c-82f337dfe025"
      },
      "outputs": [
        {
          "data": {
            "text/plain": [
              "929589"
            ]
          },
          "execution_count": 8,
          "metadata": {},
          "output_type": "execute_result"
        }
      ],
      "source": [
        "len(train_data)"
      ]
    },
    {
      "cell_type": "code",
      "execution_count": 9,
      "metadata": {
        "colab": {
          "base_uri": "https://localhost:8080/"
        },
        "id": "0708576d-5611-451f-aec7-d26b99725fea",
        "outputId": "5eec2c10-e820-4a44-df6e-ca979cb34113"
      },
      "outputs": [
        {
          "name": "stdout",
          "output_type": "stream",
          "text": [
            "['aer', 'banknote', 'berlitz', 'calloway', 'centrust', 'cluett', 'fromstein', 'gitano', 'guterman', 'hydro-quebec', 'ipo', 'kia', 'memotec', 'mlx', 'nahb', 'punts', 'rake', 'regatta', 'rubens', 'sim', 'snack-food', 'ssangyong', 'swapo', 'wachter', '<eos>', 'pierre', '<unk>', 'N', 'years', 'old', 'will', 'join', 'the', 'board', 'as', 'a', 'nonexecutive', 'director', 'nov.', 'N', '<eos>', 'mr.', '<unk>', 'is', 'chairman', 'of', '<unk>', 'n.v.', 'the', 'dutch', 'publishing', 'group', '<eos>', 'rudolph', '<unk>', 'N', 'years', 'old', 'and', 'former', 'chairman', 'of', 'consolidated', 'gold', 'fields', 'plc', 'was', 'named', 'a', 'nonexecutive', 'director', 'of', 'this', 'british', 'industrial', 'conglomerate', '<eos>', 'a', 'form', 'of', 'asbestos', 'once', 'used', 'to', 'make', 'kent', 'cigarette', 'filters', 'has', 'caused', 'a', 'high', 'percentage', 'of', 'cancer', 'deaths', 'among', 'a', 'group', 'of']\n"
          ]
        }
      ],
      "source": [
        "def id_to_word(id_list):\n",
        "    line = []\n",
        "    for w in id_list:\n",
        "        for word, wid in word_to_id.items():\n",
        "            if wid == w:\n",
        "                line.append(word)\n",
        "    return line\n",
        "\n",
        "print(id_to_word(train_data[0:100]))"
      ]
    },
    {
      "cell_type": "markdown",
      "metadata": {
        "id": "a82edaee-5801-4221-bd72-16705fc32c21"
      },
      "source": [
        "Lets just read one mini-batch now and feed our network:\n"
      ]
    },
    {
      "cell_type": "code",
      "execution_count": 10,
      "metadata": {
        "id": "b112d6e0-065d-43cd-8722-43478add148d"
      },
      "outputs": [],
      "source": [
        "itera = ptb_iterator(train_data, batch_size, num_steps)\n",
        "first_touple = itera.__next__()\n",
        "_input_data = first_touple[0]\n",
        "_targets = first_touple[1]"
      ]
    },
    {
      "cell_type": "code",
      "execution_count": 11,
      "metadata": {
        "colab": {
          "base_uri": "https://localhost:8080/"
        },
        "id": "74e36e06-6aab-431e-9918-acb78cc3d4cc",
        "outputId": "3d1bff3a-a226-402a-afcb-6746bcd8c46c"
      },
      "outputs": [
        {
          "data": {
            "text/plain": [
              "(30, 20)"
            ]
          },
          "execution_count": 11,
          "metadata": {},
          "output_type": "execute_result"
        }
      ],
      "source": [
        "_input_data.shape"
      ]
    },
    {
      "cell_type": "code",
      "execution_count": 12,
      "metadata": {
        "colab": {
          "base_uri": "https://localhost:8080/"
        },
        "id": "587b8b54-667c-4efb-bbd6-a0055603e36a",
        "outputId": "248a689c-0972-4483-9e76-a79b8e370708"
      },
      "outputs": [
        {
          "data": {
            "text/plain": [
              "(30, 20)"
            ]
          },
          "execution_count": 12,
          "metadata": {},
          "output_type": "execute_result"
        }
      ],
      "source": [
        "_targets.shape"
      ]
    },
    {
      "cell_type": "markdown",
      "metadata": {
        "id": "658bd9df-c368-4135-a20c-72374a01a98c"
      },
      "source": [
        "Lets look at 3 sentences of our input x:\n"
      ]
    },
    {
      "cell_type": "code",
      "execution_count": 13,
      "metadata": {
        "colab": {
          "base_uri": "https://localhost:8080/"
        },
        "id": "816c6db4-6d08-485f-a673-c4ef95617bba",
        "outputId": "e93b11e8-e0f8-4906-ca46-5a4172531a12"
      },
      "outputs": [
        {
          "data": {
            "text/plain": [
              "array([[9970, 9971, 9972, 9974, 9975, 9976, 9980, 9981, 9982, 9983, 9984,\n",
              "        9986, 9987, 9988, 9989, 9991, 9992, 9993, 9994, 9995],\n",
              "       [2654,    6,  334, 2886,    4,    1,  233,  711,  834,   11,  130,\n",
              "         123,    7,  514,    2,   63,   10,  514,    8,  605],\n",
              "       [   0, 1071,    4,    0,  185,   24,  368,   20,   31, 3109,  954,\n",
              "          12,    3,   21,    2, 2915,    2,   12,    3,   21]],\n",
              "      dtype=int32)"
            ]
          },
          "execution_count": 13,
          "metadata": {},
          "output_type": "execute_result"
        }
      ],
      "source": [
        "_input_data[0:3]"
      ]
    },
    {
      "cell_type": "code",
      "execution_count": 14,
      "metadata": {
        "colab": {
          "base_uri": "https://localhost:8080/"
        },
        "id": "320614d9-0e70-4396-a51b-cc6392c4c58b",
        "outputId": "a129d7de-9fae-42f9-c2ca-0dcbe2d22dca"
      },
      "outputs": [
        {
          "name": "stdout",
          "output_type": "stream",
          "text": [
            "['aer', 'banknote', 'berlitz', 'calloway', 'centrust', 'cluett', 'fromstein', 'gitano', 'guterman', 'hydro-quebec', 'ipo', 'kia', 'memotec', 'mlx', 'nahb', 'punts', 'rake', 'regatta', 'rubens', 'sim']\n"
          ]
        }
      ],
      "source": [
        "print(id_to_word(_input_data[0, :]))"
      ]
    },
    {
      "cell_type": "markdown",
      "metadata": {
        "id": "5e4c28a7-09fc-4cf3-b627-4f8bf783fddb"
      },
      "source": [
        "<h3>Embeddings</h3>\n",
        "We have to convert the words in our dataset to vectors of numbers. The traditional approach is to use one-hot encoding method that is usually used for converting categorical values to numerical values. However, One-hot encoded vectors are high-dimensional, sparse and in a big dataset, computationally inefficient. So, we use word2vec approach. It is, in fact, a layer in our LSTM network, where the word IDs will be represented as a dense representation before feeding to the LSTM.\n",
        "\n",
        "The embedded vectors also get updated during the training process of the deep neural network.\n",
        "We create the embeddings for our input data. <b>embedding_vocab</b> is matrix of [10000x200] for all 10000 unique words.\n"
      ]
    },
    {
      "cell_type": "markdown",
      "metadata": {
        "id": "08cbea07-67f6-4773-8bdc-87f1413cbb9e"
      },
      "source": [
        "<b>embedding_lookup()</b> finds the embedded values for our batch of 30x20 words. It  goes to each row of <code>input_data</code>, and for each word in the row/sentence, finds the correspond vector in <code>embedding_dic<code>. <br>\n",
        "It creates a [30x20x200] tensor, so, the first element of <b>inputs</b> (the first sentence), is a matrix of 20x200, which each row of it, is vector representing a word in the sentence.\n"
      ]
    },
    {
      "cell_type": "code",
      "execution_count": 15,
      "metadata": {
        "id": "2279b6d3-ad31-42aa-8fbf-eaa6b0de17bc"
      },
      "outputs": [],
      "source": [
        "embedding_layer = tf.keras.layers.Embedding(vocab_size, embeding_vector_size, batch_input_shape=(batch_size, num_steps), trainable=True, name=\"embedding_vocab\")"
      ]
    },
    {
      "cell_type": "code",
      "execution_count": 16,
      "metadata": {
        "colab": {
          "base_uri": "https://localhost:8080/"
        },
        "id": "d1e9ae4b-aa26-469a-86b5-81d7cc3a5c57",
        "outputId": "a9d0bf9c-a87f-4d87-9190-60e14c7b4a87"
      },
      "outputs": [
        {
          "data": {
            "text/plain": [
              "<tf.Tensor: shape=(30, 20, 200), dtype=float32, numpy=\n",
              "array([[[-0.02186811, -0.00426064, -0.03006217, ...,  0.04519576,\n",
              "          0.03904429,  0.01465008],\n",
              "        [-0.00435247,  0.00068979,  0.02564896, ..., -0.03851935,\n",
              "         -0.01631768, -0.03492562],\n",
              "        [ 0.01505497, -0.00684804,  0.02825064, ...,  0.01566483,\n",
              "         -0.01927838, -0.03783835],\n",
              "        ...,\n",
              "        [ 0.03311098, -0.01836085, -0.01386936, ...,  0.04690998,\n",
              "         -0.00914384, -0.00330474],\n",
              "        [ 0.01029604, -0.03844967, -0.04091611, ..., -0.02139658,\n",
              "         -0.04131   , -0.01545849],\n",
              "        [-0.02513381, -0.04402038, -0.03765378, ...,  0.034565  ,\n",
              "          0.01592591, -0.03253964]],\n",
              "\n",
              "       [[-0.04818658,  0.0486038 ,  0.02618552, ...,  0.03690535,\n",
              "          0.02560348, -0.01184266],\n",
              "        [-0.01467983, -0.04868547,  0.00015385, ..., -0.02863866,\n",
              "         -0.0089047 ,  0.0016192 ],\n",
              "        [-0.01320342, -0.03246187, -0.03779111, ..., -0.04697159,\n",
              "          0.02694222,  0.03661816],\n",
              "        ...,\n",
              "        [-0.04392642, -0.03883132, -0.01795278, ..., -0.00609903,\n",
              "          0.01389015, -0.03740145],\n",
              "        [-0.04479816,  0.02430414,  0.03532531, ..., -0.04506084,\n",
              "         -0.04887688, -0.03549844],\n",
              "        [-0.02023541, -0.03605048,  0.01708723, ...,  0.03379828,\n",
              "          0.0234088 ,  0.02471687]],\n",
              "\n",
              "       [[ 0.04714372,  0.03650108,  0.03680129, ...,  0.00862762,\n",
              "         -0.0322562 , -0.01659143],\n",
              "        [-0.03221846, -0.02716366, -0.03581359, ...,  0.01982475,\n",
              "          0.00551962, -0.03374873],\n",
              "        [ 0.01207273,  0.00959203, -0.00370883, ..., -0.01900587,\n",
              "         -0.03557155, -0.03238853],\n",
              "        ...,\n",
              "        [-0.04323311,  0.03070151, -0.02296855, ...,  0.04383682,\n",
              "          0.01671461, -0.04520415],\n",
              "        [-0.04031787, -0.02513229,  0.03787107, ...,  0.00181303,\n",
              "          0.02088979,  0.02529743],\n",
              "        [-0.01479556, -0.04839753,  0.03907834, ..., -0.03653049,\n",
              "         -0.00580116,  0.01856219]],\n",
              "\n",
              "       ...,\n",
              "\n",
              "       [[-0.03535044,  0.00612072,  0.04604724, ...,  0.0062618 ,\n",
              "          0.03294646,  0.01581638],\n",
              "        [ 0.0214312 , -0.03517688,  0.02417335, ..., -0.03305101,\n",
              "         -0.01239977, -0.03149264],\n",
              "        [-0.0092675 , -0.03865647,  0.02731811, ..., -0.04720714,\n",
              "         -0.04626773, -0.03718158],\n",
              "        ...,\n",
              "        [ 0.01750619, -0.04914052, -0.02049121, ..., -0.0431506 ,\n",
              "          0.02135452, -0.0205871 ],\n",
              "        [ 0.03636846, -0.04454533, -0.03780142, ..., -0.00354226,\n",
              "         -0.03901966,  0.04487655],\n",
              "        [-0.01359021, -0.00979129, -0.02815541, ..., -0.01681825,\n",
              "          0.0323992 , -0.01255084]],\n",
              "\n",
              "       [[-0.01350939,  0.00256804, -0.02659111, ..., -0.03917779,\n",
              "         -0.01740402,  0.04096342],\n",
              "        [-0.03687626, -0.00041133,  0.03890885, ..., -0.0188744 ,\n",
              "         -0.01126701,  0.00121145],\n",
              "        [ 0.01207273,  0.00959203, -0.00370883, ..., -0.01900587,\n",
              "         -0.03557155, -0.03238853],\n",
              "        ...,\n",
              "        [ 0.02394301,  0.04798022,  0.00105153, ..., -0.0165804 ,\n",
              "         -0.01492891,  0.03108648],\n",
              "        [-0.01467983, -0.04868547,  0.00015385, ..., -0.02863866,\n",
              "         -0.0089047 ,  0.0016192 ],\n",
              "        [ 0.04691816,  0.00896925,  0.01207056, ...,  0.02793409,\n",
              "         -0.03149348, -0.02546141]],\n",
              "\n",
              "       [[-0.03139849,  0.03794999, -0.03719033, ..., -0.02186463,\n",
              "         -0.00817835,  0.01352688],\n",
              "        [-0.00907854, -0.02916965,  0.01154339, ...,  0.04084354,\n",
              "          0.04040748,  0.04944989],\n",
              "        [-0.03531712, -0.04970346,  0.01159487, ..., -0.02972516,\n",
              "         -0.00576923, -0.0274413 ],\n",
              "        ...,\n",
              "        [-0.02960829, -0.01171957,  0.00916033, ..., -0.03522976,\n",
              "         -0.04766146, -0.01022929],\n",
              "        [-0.02538519, -0.0435615 ,  0.02193073, ..., -0.04700145,\n",
              "          0.03391841, -0.02053906],\n",
              "        [ 0.03535272,  0.00061287, -0.01772337, ...,  0.02883646,\n",
              "          0.02763924,  0.02134213]]], dtype=float32)>"
            ]
          },
          "execution_count": 16,
          "metadata": {},
          "output_type": "execute_result"
        }
      ],
      "source": [
        "# Define where to get the data for our embeddings from\n",
        "inputs = embedding_layer(_input_data)\n",
        "inputs"
      ]
    },
    {
      "cell_type": "markdown",
      "metadata": {
        "id": "c75681fb-0fd0-4162-89b7-4b6d3948f4f5"
      },
      "source": [
        "<h3>Constructing Recurrent Neural Networks</h3>\n"
      ]
    },
    {
      "cell_type": "markdown",
      "metadata": {
        "id": "a418212c-044a-4ebe-a54c-da08043bcced"
      },
      "source": [
        "In this step, we create the stacked LSTM using <b>tf.keras.layers.StackedRNNCells</b>, which is a 2 layer LSTM network:\n"
      ]
    },
    {
      "cell_type": "code",
      "execution_count": 17,
      "metadata": {
        "id": "30dffacf-10ef-42c5-bd13-e2cc682610d7"
      },
      "outputs": [],
      "source": [
        "lstm_cell_l1 = tf.keras.layers.LSTMCell(hidden_size_l1)\n",
        "lstm_cell_l2 = tf.keras.layers.LSTMCell(hidden_size_l2)"
      ]
    },
    {
      "cell_type": "code",
      "execution_count": 18,
      "metadata": {
        "id": "52b495b1-1b30-4228-b17b-2787c5c7ec99"
      },
      "outputs": [],
      "source": [
        "stacked_lstm = tf.keras.layers.StackedRNNCells([lstm_cell_l1, lstm_cell_l2])"
      ]
    },
    {
      "cell_type": "markdown",
      "metadata": {
        "id": "91ee64b9-c60f-4189-9d30-99c04a18a7b7"
      },
      "source": [
        "<b>tf.keras.layers.RNN</b> creates a recurrent neural network using <b>stacked_lstm</b>.\n",
        "\n",
        "The input should be a Tensor of shape: [batch_size, max_time, embedding_vector_size], in our case it would be (30, 20, 200)\n"
      ]
    },
    {
      "cell_type": "code",
      "execution_count": 19,
      "metadata": {
        "id": "2c463fe1-a079-45b0-87ba-fcf78f23df0e"
      },
      "outputs": [],
      "source": [
        "layer = tf.keras.layers.RNN(stacked_lstm,[batch_size, num_steps],return_state=False,stateful=True,trainable=True)"
      ]
    },
    {
      "cell_type": "markdown",
      "metadata": {
        "id": "a562ac61-5cba-4d1a-a49f-61679408994c"
      },
      "source": [
        "Also, we initialize the states of the nework:\n",
        "\n",
        "<h4>_initial_state</h4>\n",
        "\n",
        "For each LSTM, there are 2 state matrices, c\\_state and m\\_state.  c_state and m_state represent \"Memory State\" and \"Cell State\". Each hidden layer, has a vector of size 30, which keeps the states. so, for 200 hidden units in each LSTM, we have a matrix of size [30x200]\n"
      ]
    },
    {
      "cell_type": "code",
      "execution_count": 20,
      "metadata": {
        "id": "ca0d3944-a084-4f1a-ba13-7c68e5966194"
      },
      "outputs": [],
      "source": [
        "init_state = tf.Variable(tf.zeros([batch_size,embeding_vector_size]), trainable=False)"
      ]
    },
    {
      "cell_type": "code",
      "execution_count": 21,
      "metadata": {
        "id": "c4c248c5-db17-486e-8d92-6e43279761d2"
      },
      "outputs": [],
      "source": [
        "layer.inital_state = init_state"
      ]
    },
    {
      "cell_type": "code",
      "execution_count": 22,
      "metadata": {
        "colab": {
          "base_uri": "https://localhost:8080/"
        },
        "id": "3f145d10-a956-49b2-89d6-3eb342735117",
        "outputId": "f0268849-f50d-4fc8-90df-b75592a6c9e3"
      },
      "outputs": [
        {
          "data": {
            "text/plain": [
              "<tf.Variable 'Variable:0' shape=(30, 200) dtype=float32, numpy=\n",
              "array([[0., 0., 0., ..., 0., 0., 0.],\n",
              "       [0., 0., 0., ..., 0., 0., 0.],\n",
              "       [0., 0., 0., ..., 0., 0., 0.],\n",
              "       ...,\n",
              "       [0., 0., 0., ..., 0., 0., 0.],\n",
              "       [0., 0., 0., ..., 0., 0., 0.],\n",
              "       [0., 0., 0., ..., 0., 0., 0.]], dtype=float32)>"
            ]
          },
          "execution_count": 22,
          "metadata": {},
          "output_type": "execute_result"
        }
      ],
      "source": [
        "layer.inital_state"
      ]
    },
    {
      "cell_type": "markdown",
      "metadata": {
        "id": "7382a289-e3b9-4bfe-957b-e73a51dd8882"
      },
      "source": [
        "so, lets look at the outputs. The output of the stackedLSTM comes from 128 hidden_layer, and in each time step(=20), one of them get activated. we use the linear activation to map the 128 hidden layer to a [30X20 matrix]\n"
      ]
    },
    {
      "cell_type": "code",
      "execution_count": 23,
      "metadata": {
        "id": "148dae18-c6a2-466f-ac00-7a9494c40533"
      },
      "outputs": [],
      "source": [
        "outputs = layer(inputs)"
      ]
    },
    {
      "cell_type": "code",
      "execution_count": 24,
      "metadata": {
        "colab": {
          "base_uri": "https://localhost:8080/"
        },
        "id": "d787ad09-e7ec-4a1e-9ced-0686d7d4eab0",
        "outputId": "b7d5002b-0422-4ee4-bad2-88943c32d619"
      },
      "outputs": [
        {
          "data": {
            "text/plain": [
              "<tf.Tensor: shape=(30, 20, 128), dtype=float32, numpy=\n",
              "array([[[-1.06291007e-03,  1.52432232e-03, -1.72486980e-04, ...,\n",
              "         -1.24502333e-03, -6.68567882e-05, -2.08043741e-04],\n",
              "        [-5.12520375e-04,  2.43730983e-03,  3.30772833e-04, ...,\n",
              "         -2.62368307e-03, -5.36194246e-04, -1.05130672e-03],\n",
              "        [-9.85060586e-04,  2.73709767e-03,  8.15193227e-04, ...,\n",
              "         -3.11593409e-03,  2.28396657e-05, -3.35025776e-04],\n",
              "        ...,\n",
              "        [ 1.14644808e-03, -7.64961471e-04,  7.26605579e-03, ...,\n",
              "          2.76058272e-04,  3.78579856e-03,  5.76395309e-03],\n",
              "        [ 4.61863412e-04, -1.92987602e-04,  6.87744794e-03, ...,\n",
              "         -8.85494519e-04,  1.88689714e-03,  7.63987564e-03],\n",
              "        [-8.10878482e-05,  1.48352032e-04,  6.18248526e-03, ...,\n",
              "         -8.10499769e-04,  6.25821587e-04,  8.37811269e-03]],\n",
              "\n",
              "       [[-1.26182032e-03, -9.33864721e-05, -5.12823928e-04, ...,\n",
              "         -1.31240999e-03,  6.66800497e-06,  1.10299571e-03],\n",
              "        [-3.17575154e-03, -1.09632255e-03, -1.19794591e-03, ...,\n",
              "         -1.28351117e-03,  2.34243184e-04,  7.63718504e-04],\n",
              "        [-3.63251008e-03, -2.79708044e-03, -2.18839175e-03, ...,\n",
              "         -1.24439248e-03, -8.79272557e-05, -5.15962718e-04],\n",
              "        ...,\n",
              "        [ 6.63007563e-03, -3.50145064e-03, -1.94193493e-03, ...,\n",
              "         -4.10257652e-03,  1.78083766e-03, -4.22769086e-03],\n",
              "        [ 5.36499824e-03, -3.16762901e-03,  7.02727528e-04, ...,\n",
              "         -3.28848977e-03,  8.46499577e-04, -5.08387946e-03],\n",
              "        [ 4.63259406e-03, -3.01691983e-03,  2.15345551e-03, ...,\n",
              "         -2.19030236e-03,  1.96458113e-05, -4.74786293e-03]],\n",
              "\n",
              "       [[ 4.83055965e-06, -6.10090210e-04, -3.61190789e-04, ...,\n",
              "         -2.97247636e-04, -7.69237929e-04,  7.37510389e-04],\n",
              "        [ 9.66521329e-04, -1.13193097e-03, -5.25055744e-04, ...,\n",
              "         -3.97905183e-04, -4.25458769e-04,  4.47834056e-04],\n",
              "        [ 2.34297127e-03, -2.80426187e-03, -5.76219638e-04, ...,\n",
              "          4.28529864e-04,  4.13034752e-04,  2.09892620e-04],\n",
              "        ...,\n",
              "        [-1.01770728e-03, -1.35037408e-03, -3.17316432e-03, ...,\n",
              "         -1.94601447e-03, -7.58650433e-03,  2.35023163e-03],\n",
              "        [-1.28075550e-03, -1.70355232e-03, -2.47210823e-03, ...,\n",
              "         -5.61002817e-04, -9.54289455e-03,  2.95948749e-03],\n",
              "        [-7.90806836e-04, -7.83013413e-04, -1.80566299e-03, ...,\n",
              "         -3.76374926e-04, -1.09257298e-02,  3.38705373e-03]],\n",
              "\n",
              "       ...,\n",
              "\n",
              "       [[-8.79935571e-04,  3.29962495e-04,  1.26111874e-04, ...,\n",
              "          6.35580334e-04, -1.59329001e-03, -6.68366556e-04],\n",
              "        [-6.52278424e-04, -6.76184951e-04,  1.59754403e-04, ...,\n",
              "          1.77571387e-03, -2.44214246e-03, -1.81604584e-04],\n",
              "        [-3.24981345e-04, -1.15042401e-03,  1.01942627e-03, ...,\n",
              "          3.27370642e-03, -2.44451012e-03,  4.10532812e-04],\n",
              "        ...,\n",
              "        [-2.47148238e-03,  2.64405203e-03,  7.96219427e-03, ...,\n",
              "          4.64356411e-03, -7.34790554e-03,  2.43672635e-03],\n",
              "        [-1.78056036e-03,  1.85171515e-03,  6.53846748e-03, ...,\n",
              "          4.77532251e-03, -8.10576696e-03,  3.11475946e-03],\n",
              "        [-2.70687463e-03,  2.32045352e-03,  5.35150198e-03, ...,\n",
              "          3.15671274e-03, -8.18428025e-03,  3.03931348e-03]],\n",
              "\n",
              "       [[ 5.72278041e-05, -9.46743821e-04,  1.18247722e-03, ...,\n",
              "         -1.35501765e-03,  2.99664738e-04, -2.23838520e-04],\n",
              "        [ 7.21001765e-04, -2.24515237e-03,  2.00172537e-03, ...,\n",
              "         -4.33631445e-04,  6.40050217e-04, -4.01721598e-04],\n",
              "        [ 1.95905985e-03, -4.35352139e-03,  2.43395171e-03, ...,\n",
              "          7.15868548e-04,  1.28693809e-03, -2.67076335e-04],\n",
              "        ...,\n",
              "        [-5.59680909e-03, -4.17818641e-03, -1.53932907e-03, ...,\n",
              "         -2.09045457e-03,  5.86054986e-03,  6.59021549e-03],\n",
              "        [-5.33429021e-03, -5.66356489e-03, -1.79081981e-03, ...,\n",
              "         -8.44803755e-04,  4.62633092e-03,  6.38512475e-03],\n",
              "        [-4.10360936e-03, -7.38460990e-03, -2.06808792e-03, ...,\n",
              "          9.62899721e-05,  2.85681873e-03,  6.37178449e-03]],\n",
              "\n",
              "       [[ 1.52949325e-03,  5.19496854e-04, -8.00474721e-04, ...,\n",
              "         -4.69774270e-04,  2.69930548e-04, -9.29389382e-04],\n",
              "        [ 4.25683241e-03, -2.61300884e-04, -5.92151482e-04, ...,\n",
              "         -1.61235454e-03,  2.14970717e-03, -1.42576348e-03],\n",
              "        [ 5.04019344e-03, -1.70613918e-03, -1.18954056e-04, ...,\n",
              "         -8.83588393e-04,  3.36204050e-03, -1.74011698e-03],\n",
              "        ...,\n",
              "        [-7.80280272e-04,  2.36320333e-03,  7.38036062e-04, ...,\n",
              "          2.06564390e-03, -5.50154457e-03, -8.29035789e-03],\n",
              "        [-1.78687880e-03,  1.36818783e-03,  1.40335620e-03, ...,\n",
              "          1.29309809e-03, -5.81755117e-03, -8.45891610e-03],\n",
              "        [-1.92923448e-03,  8.12456652e-04,  1.41300634e-03, ...,\n",
              "          1.07233849e-04, -5.81945386e-03, -9.83320083e-03]]],\n",
              "      dtype=float32)>"
            ]
          },
          "execution_count": 24,
          "metadata": {},
          "output_type": "execute_result"
        }
      ],
      "source": [
        "outputs"
      ]
    },
    {
      "cell_type": "markdown",
      "metadata": {
        "id": "3112b168-6085-4b8d-9499-a0be2c6507c1"
      },
      "source": [
        "<h2>Dense layer</h2>\n",
        "We now create densely-connected neural network layer that would reshape the outputs tensor from  [30 x 20 x 128] to [30 x 20 x 10000].\n"
      ]
    },
    {
      "cell_type": "code",
      "execution_count": 25,
      "metadata": {
        "id": "44e687f7-058f-4ab7-b5cc-c5ff1dee336f"
      },
      "outputs": [],
      "source": [
        "dense = tf.keras.layers.Dense(vocab_size)"
      ]
    },
    {
      "cell_type": "code",
      "execution_count": 26,
      "metadata": {
        "id": "c7dab3a2-cb6a-4673-9ac4-157a14fe3404"
      },
      "outputs": [],
      "source": [
        "logits_outputs = dense(outputs)"
      ]
    },
    {
      "cell_type": "code",
      "execution_count": 27,
      "metadata": {
        "colab": {
          "base_uri": "https://localhost:8080/"
        },
        "id": "b5a7960e-254e-4f77-b652-c2a585a51696",
        "outputId": "d0d84371-d33c-43c1-c535-418f3b308b6c"
      },
      "outputs": [
        {
          "name": "stdout",
          "output_type": "stream",
          "text": [
            "shape of the output from dense layer:  (30, 20, 10000)\n"
          ]
        }
      ],
      "source": [
        "print(\"shape of the output from dense layer: \", logits_outputs.shape) #(batch_size, sequence_length, vocab_size)"
      ]
    },
    {
      "cell_type": "markdown",
      "metadata": {
        "id": "515809a3-ed7f-4a52-81ee-b6c7709a64dd"
      },
      "source": [
        "<h2>Activation layer</h2>\n",
        "\n",
        "\n",
        "A softmax activation layers is also then applied to derive the probability of the output being in any of the multiclass(10000 in this case) possibilities.\n"
      ]
    },
    {
      "cell_type": "code",
      "execution_count": 28,
      "metadata": {
        "id": "bc272c0e-72c2-44c0-abbc-a18f765e0950"
      },
      "outputs": [],
      "source": [
        "activation = tf.keras.layers.Activation('softmax')"
      ]
    },
    {
      "cell_type": "code",
      "execution_count": 29,
      "metadata": {
        "id": "c1d48d6a-bb40-4cef-95de-8085981af285"
      },
      "outputs": [],
      "source": [
        "output_words_prob = activation(logits_outputs)"
      ]
    },
    {
      "cell_type": "code",
      "execution_count": 30,
      "metadata": {
        "colab": {
          "base_uri": "https://localhost:8080/"
        },
        "id": "c948ccba-db65-4166-89d1-4b67629bd69f",
        "outputId": "fdf1fbcc-d346-4d0b-b98a-0c73daef4d4e"
      },
      "outputs": [
        {
          "name": "stdout",
          "output_type": "stream",
          "text": [
            "shape of the output from the activation layer:  (30, 20, 10000)\n"
          ]
        }
      ],
      "source": [
        "print(\"shape of the output from the activation layer: \", output_words_prob.shape) #(batch_size, sequence_length, vocab_size)"
      ]
    },
    {
      "cell_type": "markdown",
      "metadata": {
        "id": "70244eee-fb9c-4aa6-b85a-62131f477801"
      },
      "source": [
        "Lets look at the probability of observing words for t=0 to t=20:\n"
      ]
    },
    {
      "cell_type": "code",
      "execution_count": 31,
      "metadata": {
        "colab": {
          "base_uri": "https://localhost:8080/"
        },
        "id": "76f1a338-2c3f-409a-8cbc-43bdc5e2d05d",
        "outputId": "e9576267-48ed-429e-ff88-2a84743f940f"
      },
      "outputs": [
        {
          "name": "stdout",
          "output_type": "stream",
          "text": [
            "The probability of observing words in t=0 to t=20 tf.Tensor(\n",
            "[[9.99986223e-05 9.99941913e-05 1.00020014e-04 ... 1.00006131e-04\n",
            "  9.99917247e-05 1.00011246e-04]\n",
            " [1.00000172e-04 9.99928307e-05 1.00022982e-04 ... 1.00011253e-04\n",
            "  9.99998374e-05 9.99998301e-05]\n",
            " [9.99895856e-05 9.99997428e-05 1.00025187e-04 ... 1.00012781e-04\n",
            "  9.99941985e-05 1.00002544e-04]\n",
            " ...\n",
            " [1.00056313e-04 9.99531330e-05 9.99231779e-05 ... 1.00032994e-04\n",
            "  1.00044614e-04 9.99843542e-05]\n",
            " [1.00050100e-04 9.99620970e-05 9.99426702e-05 ... 1.00084711e-04\n",
            "  1.00060977e-04 9.99973490e-05]\n",
            " [1.00038000e-04 9.99441108e-05 9.99536787e-05 ... 1.00109733e-04\n",
            "  1.00072037e-04 9.99964468e-05]], shape=(20, 10000), dtype=float32)\n"
          ]
        }
      ],
      "source": [
        "print(\"The probability of observing words in t=0 to t=20\", output_words_prob[0, 0:num_steps])"
      ]
    },
    {
      "cell_type": "markdown",
      "metadata": {
        "id": "11181f57-e6e0-4dca-b96b-d1b52372c233"
      },
      "source": [
        "<h3>Prediction</h3>\n",
        "What is the word correspond to the probability output? Lets use the maximum probability:\n"
      ]
    },
    {
      "cell_type": "code",
      "execution_count": 32,
      "metadata": {
        "colab": {
          "base_uri": "https://localhost:8080/"
        },
        "id": "8e4ad2e4-6e54-4ada-8c49-2be1eb873897",
        "outputId": "31e28230-9a7b-4d4e-d474-b70b5a4ee02b"
      },
      "outputs": [
        {
          "data": {
            "text/plain": [
              "array([2481, 7343, 5640, 5446, 5446, 5784, 8218, 8218,  435,  435,  435,\n",
              "       5517, 4020, 4020, 1549, 1549,  410,  410, 5351, 5351])"
            ]
          },
          "execution_count": 32,
          "metadata": {},
          "output_type": "execute_result"
        }
      ],
      "source": [
        "np.argmax(output_words_prob[0, 0:num_steps], axis=1)"
      ]
    },
    {
      "cell_type": "markdown",
      "metadata": {
        "id": "d88e6949-26e7-44e9-8e6c-2b9a18630ae9"
      },
      "source": [
        "So, what is the ground truth for the first word of first sentence? You can get it from target tensor, if you want to find the embedding vector:\n"
      ]
    },
    {
      "cell_type": "code",
      "execution_count": 33,
      "metadata": {
        "colab": {
          "base_uri": "https://localhost:8080/"
        },
        "id": "21a53f88-3ba2-42b6-981f-290afecb8328",
        "outputId": "71fa3a75-0103-4a49-eb1e-7eb5e070a793"
      },
      "outputs": [
        {
          "data": {
            "text/plain": [
              "array([9971, 9972, 9974, 9975, 9976, 9980, 9981, 9982, 9983, 9984, 9986,\n",
              "       9987, 9988, 9989, 9991, 9992, 9993, 9994, 9995, 9996], dtype=int32)"
            ]
          },
          "execution_count": 33,
          "metadata": {},
          "output_type": "execute_result"
        }
      ],
      "source": [
        "_targets[0]"
      ]
    },
    {
      "cell_type": "markdown",
      "metadata": {
        "id": "9ed2a392-ed12-44dc-aea2-56e94108bb68"
      },
      "source": [
        "<h4>Objective function</h4>\n",
        "\n",
        "\n",
        "How similar the predicted words are to the target words?\n",
        "\n",
        "\n",
        "Now we have to define our objective function, to calculate the similarity of predicted values to ground truth, and then, penalize the model with the error. Our objective is to minimize loss function, that is, to minimize the average negative log probability of the target words:\n",
        "\n",
        "$$\\text{loss} = -\\frac{1}{N}\\sum_{i=1}^{N} \\ln p_{\\text{target}_i}$$\n",
        "\n",
        "This function is already implemented and available in TensorFlow through *tf.keras.losses.sparse_categorical_crossentropy*. It calculates the categorical cross-entropy loss for <b>logits</b> and the <b>target</b> sequence.  \n",
        "\n",
        "The arguments of this function are:  \n",
        "<ul>\n",
        "    <li>logits: List of 2D Tensors of shape [batch_size x num_decoder_symbols].</li>  \n",
        "    <li>targets: List of 1D batch-sized int32 Tensors of the same length as logits.</li>   \n",
        "</ul>\n"
      ]
    },
    {
      "cell_type": "code",
      "execution_count": 34,
      "metadata": {
        "id": "5d893dd4-3c5c-41bf-ada0-6163c858a25d"
      },
      "outputs": [],
      "source": [
        "def crossentropy(y_true, y_pred):\n",
        "    return tf.keras.losses.sparse_categorical_crossentropy(y_true, y_pred)"
      ]
    },
    {
      "cell_type": "code",
      "execution_count": 35,
      "metadata": {
        "id": "69aa36ef-65e3-4899-98f3-8113c39bc169"
      },
      "outputs": [],
      "source": [
        "loss = crossentropy(_targets, output_words_prob)"
      ]
    },
    {
      "cell_type": "markdown",
      "metadata": {
        "id": "94a81f95-bce4-4040-86c2-50460a5b63f8"
      },
      "source": [
        "Lets look at the first 10 values of loss:\n"
      ]
    },
    {
      "cell_type": "code",
      "execution_count": 36,
      "metadata": {
        "colab": {
          "base_uri": "https://localhost:8080/"
        },
        "id": "23dabaa7-7b4f-4891-a8ab-7549e3bb41d9",
        "outputId": "cf4f660e-b166-4462-fff5-9031d99d2df3"
      },
      "outputs": [
        {
          "data": {
            "text/plain": [
              "<tf.Tensor: shape=(10,), dtype=float32, numpy=\n",
              "array([9.210306 , 9.210392 , 9.210139 , 9.210003 , 9.210298 , 9.2097845,\n",
              "       9.209445 , 9.210739 , 9.210882 , 9.210122 ], dtype=float32)>"
            ]
          },
          "execution_count": 36,
          "metadata": {},
          "output_type": "execute_result"
        }
      ],
      "source": [
        "loss[0, :10]"
      ]
    },
    {
      "cell_type": "markdown",
      "metadata": {
        "id": "aa13fc94-1dcd-4a0f-902b-5301413c6b13"
      },
      "source": [
        "Now, we define cost as average of the losses:\n"
      ]
    },
    {
      "cell_type": "code",
      "execution_count": 37,
      "metadata": {
        "colab": {
          "base_uri": "https://localhost:8080/"
        },
        "id": "7efdee77-c64c-4f77-a165-77d6ade35998",
        "outputId": "0aa0adc0-9e0a-4950-f13c-592497fd05d3"
      },
      "outputs": [
        {
          "data": {
            "text/plain": [
              "<tf.Tensor: shape=(), dtype=float32, numpy=184.20665>"
            ]
          },
          "execution_count": 37,
          "metadata": {},
          "output_type": "execute_result"
        }
      ],
      "source": [
        "cost = tf.reduce_sum(loss / batch_size)\n",
        "cost"
      ]
    },
    {
      "cell_type": "markdown",
      "metadata": {
        "id": "0516d682-2a2e-4795-a095-f475bf87b32f"
      },
      "source": [
        "<h3>Training</h3>\n",
        "\n",
        "To do training for our network, we have to take the following steps:\n",
        "<ol>\n",
        "    <li>Define the optimizer.</li>\n",
        "    <li>Assemble layers to build model.</li>\n",
        "    <li>Calculate the gradients based on the loss function.</li>\n",
        "    <li>Apply the optimizer to the variables/gradients tuple.</li>\n",
        "</ol>\n"
      ]
    },
    {
      "cell_type": "markdown",
      "metadata": {
        "id": "31412c8f-c49c-425b-bf7d-dcb828261fc8"
      },
      "source": [
        "<h4>1. Define Optimizer</h4>\n",
        "\n"
      ]
    },
    {
      "cell_type": "code",
      "execution_count": 38,
      "metadata": {
        "id": "201ca93f-78d6-4c76-9e35-d353f3dee5c2"
      },
      "outputs": [],
      "source": [
        "# Create a variable for the learning rate\n",
        "lr = tf.Variable(0.0, trainable=False)\n",
        "optimizer = tf.keras.optimizers.SGD(lr=lr, clipnorm=max_grad_norm)"
      ]
    },
    {
      "cell_type": "markdown",
      "metadata": {
        "id": "5500eac5-771a-46af-b12b-562bda099cce"
      },
      "source": [
        "<h4>2. Assemble layers to build model.</h4>\n"
      ]
    },
    {
      "cell_type": "code",
      "execution_count": 39,
      "metadata": {
        "colab": {
          "base_uri": "https://localhost:8080/"
        },
        "id": "3c5bcda8-8e07-43a9-a5a3-9f43a392dbc4",
        "outputId": "a9e5aeeb-8198-435a-e73d-d2cf67c30805"
      },
      "outputs": [
        {
          "name": "stdout",
          "output_type": "stream",
          "text": [
            "Model: \"sequential\"\n",
            "_________________________________________________________________\n",
            " Layer (type)                Output Shape              Param #   \n",
            "=================================================================\n",
            " embedding_vocab (Embedding  (30, 20, 200)             2000000   \n",
            " )                                                               \n",
            "                                                                 \n",
            " rnn (RNN)                   (30, 20, 128)             671088    \n",
            "                                                                 \n",
            " dense (Dense)               (30, 20, 10000)           1290000   \n",
            "                                                                 \n",
            " activation (Activation)     (30, 20, 10000)           0         \n",
            "                                                                 \n",
            "=================================================================\n",
            "Total params: 3961088 (15.11 MB)\n",
            "Trainable params: 3955088 (15.09 MB)\n",
            "Non-trainable params: 6000 (23.44 KB)\n",
            "_________________________________________________________________\n"
          ]
        }
      ],
      "source": [
        "model = tf.keras.Sequential()\n",
        "model.add(embedding_layer)\n",
        "model.add(layer)\n",
        "model.add(dense)\n",
        "model.add(activation)\n",
        "model.compile(loss=crossentropy, optimizer=optimizer)\n",
        "model.summary()"
      ]
    },
    {
      "cell_type": "markdown",
      "metadata": {
        "id": "e7ef0f31-9e2b-4076-8b5d-56759b8d342c"
      },
      "source": [
        "\n",
        "<h4>2. Trainable Variables</h4>\n"
      ]
    },
    {
      "cell_type": "markdown",
      "metadata": {
        "id": "687495f4-f1b1-4341-9f86-7a98779d623d"
      },
      "source": [
        "Defining a variable, if you passed <i>trainable=True</i>, the variable constructor automatically adds new variables to the graph collection <b>GraphKeys.TRAINABLE_VARIABLES</b>. Now, using <i>tf.trainable_variables()</i> you can get all variables created with <b>trainable=True</b>.\n"
      ]
    },
    {
      "cell_type": "code",
      "execution_count": 40,
      "metadata": {
        "id": "2173595b-e544-4b5d-88c2-8a051f778739"
      },
      "outputs": [],
      "source": [
        "# Get all TensorFlow variables marked as \"trainable\" (i.e. all of them except _lr, which we just created)\n",
        "tvars = model.trainable_variables"
      ]
    },
    {
      "cell_type": "markdown",
      "metadata": {
        "id": "d1216065-fa94-43b2-afda-8d729c00b176"
      },
      "source": [
        "Note: we can find the name and scope of all variables:\n"
      ]
    },
    {
      "cell_type": "code",
      "execution_count": 41,
      "metadata": {
        "colab": {
          "base_uri": "https://localhost:8080/"
        },
        "id": "32190ac9-1f86-40b7-98e3-0b87f8d07a1f",
        "outputId": "58a77306-4385-455b-cc21-73b7881b75a8"
      },
      "outputs": [
        {
          "data": {
            "text/plain": [
              "['embedding_vocab/embeddings:0',\n",
              " 'rnn/stacked_rnn_cells/lstm_cell/kernel:0',\n",
              " 'rnn/stacked_rnn_cells/lstm_cell/recurrent_kernel:0',\n",
              " 'rnn/stacked_rnn_cells/lstm_cell/bias:0',\n",
              " 'rnn/stacked_rnn_cells/lstm_cell_1/kernel:0',\n",
              " 'rnn/stacked_rnn_cells/lstm_cell_1/recurrent_kernel:0',\n",
              " 'rnn/stacked_rnn_cells/lstm_cell_1/bias:0',\n",
              " 'dense/kernel:0',\n",
              " 'dense/bias:0']"
            ]
          },
          "execution_count": 41,
          "metadata": {},
          "output_type": "execute_result"
        }
      ],
      "source": [
        "[v.name for v in tvars]"
      ]
    },
    {
      "cell_type": "markdown",
      "metadata": {
        "id": "ade9b9fa-f4fa-4cc3-a85e-40c4c43e3460"
      },
      "source": [
        "<h4>3. Calculate the gradients based on the loss function</h4>\n"
      ]
    },
    {
      "cell_type": "markdown",
      "metadata": {
        "id": "5b730515-51e1-4de4-a998-37b58afb57fc"
      },
      "source": [
        "**Gradient**: The gradient of a function is the slope of its derivative (line), or in other words, the rate of change of a function. It's a vector (a direction to move) that points in the direction of greatest increase of the function, and calculated by the <b>derivative</b> operation.\n"
      ]
    },
    {
      "cell_type": "markdown",
      "metadata": {
        "id": "64c625f4-ed77-433f-ba77-946eb44ab67a"
      },
      "source": [
        "First lets recall the gradient function using an toy example:\n",
        "$$ z = \\left(2x^2 + 3xy\\right)$$\n"
      ]
    },
    {
      "cell_type": "code",
      "execution_count": 42,
      "metadata": {
        "id": "2428fa22-53e2-47d0-a8b3-4dc10567a0f9"
      },
      "outputs": [],
      "source": [
        "x = tf.constant(1.0)\n",
        "y =  tf.constant(2.0)\n",
        "with tf.GradientTape(persistent=True) as g:\n",
        "    g.watch(x)\n",
        "    g.watch(y)\n",
        "    func_test = 2 * x * x + 3 * x * y"
      ]
    },
    {
      "cell_type": "markdown",
      "metadata": {
        "id": "a042f0d0-8881-4b15-a26b-2cc31472be53"
      },
      "source": [
        "The <b>tf.gradients()</b> function allows you to compute the symbolic gradient of one tensor with respect to one or more other tensors—including variables. <b>tf.gradients(func, xs)</b> constructs symbolic partial derivatives of sum of <b>func</b> w.r.t. <i>x</i> in <b>xs</b>.\n",
        "\n",
        "Now, lets look at the derivitive w.r.t. <b>var_x</b>:\n",
        "$$ \\frac{\\partial \\:}{\\partial \\:x}\\left(2x^2 + 3xy\\right) = 4x + 3y $$\n"
      ]
    },
    {
      "cell_type": "code",
      "execution_count": 43,
      "metadata": {
        "colab": {
          "base_uri": "https://localhost:8080/"
        },
        "id": "27fbdae5-3d2e-4ef1-a8d7-762c194b4d86",
        "outputId": "711e875e-cfd0-4374-96b6-ab7784aaf2a1"
      },
      "outputs": [
        {
          "name": "stdout",
          "output_type": "stream",
          "text": [
            "tf.Tensor(10.0, shape=(), dtype=float32)\n"
          ]
        }
      ],
      "source": [
        "var_grad = g.gradient(func_test, x) # Will compute to 10.0\n",
        "print(var_grad)"
      ]
    },
    {
      "cell_type": "markdown",
      "metadata": {
        "id": "74a1da28-9288-4895-98ba-6c1faa4929a2"
      },
      "source": [
        "the derivative w.r.t. <b>var_y</b>:\n",
        "$$ \\frac{\\partial \\:}{\\partial \\:y}\\left(2x^2 + 3xy\\right) = 3x $$\n"
      ]
    },
    {
      "cell_type": "code",
      "execution_count": 44,
      "metadata": {
        "colab": {
          "base_uri": "https://localhost:8080/"
        },
        "id": "104040cd-2feb-4bd1-bb9a-ee166a950a0e",
        "outputId": "4b597a3b-500a-4f5d-db66-6c6840144384"
      },
      "outputs": [
        {
          "name": "stdout",
          "output_type": "stream",
          "text": [
            "tf.Tensor(3.0, shape=(), dtype=float32)\n"
          ]
        }
      ],
      "source": [
        "var_grad = g.gradient(func_test, y) # Will compute to 3.0\n",
        "print(var_grad)"
      ]
    },
    {
      "cell_type": "markdown",
      "metadata": {
        "id": "3717febe-dc0b-4b12-a1c1-44c9a456173c"
      },
      "source": [
        "Now, we can look at gradients w.r.t all variables:\n"
      ]
    },
    {
      "cell_type": "code",
      "execution_count": 45,
      "metadata": {
        "id": "be4349e1-80de-4f39-9aac-b147fafc64b5"
      },
      "outputs": [],
      "source": [
        "with tf.GradientTape() as tape:\n",
        "    # Forward pass.\n",
        "    output_words_prob = model(_input_data)\n",
        "    # Loss value for this batch.\n",
        "    loss  = crossentropy(_targets, output_words_prob)\n",
        "    cost = tf.reduce_sum(loss, axis=0) / batch_size"
      ]
    },
    {
      "cell_type": "code",
      "execution_count": 46,
      "metadata": {
        "id": "95992ce1-768e-4117-ae65-e049664f65b4"
      },
      "outputs": [],
      "source": [
        "# Get gradients of loss wrt the trainable variables.\n",
        "grad_t_list = tape.gradient(cost, tvars)"
      ]
    },
    {
      "cell_type": "code",
      "execution_count": 47,
      "metadata": {
        "colab": {
          "base_uri": "https://localhost:8080/"
        },
        "id": "5dad41c3-ab9f-4658-a6f8-8109296ddbef",
        "outputId": "02847353-c4c1-4832-efde-82932b7ebc27"
      },
      "outputs": [
        {
          "name": "stdout",
          "output_type": "stream",
          "text": [
            "[<tensorflow.python.framework.indexed_slices.IndexedSlices object at 0x7e1368efd7b0>, <tf.Tensor: shape=(200, 1024), dtype=float32, numpy=\n",
            "array([[ 3.7876828e-07, -1.1112128e-07, -9.0141214e-08, ...,\n",
            "        -2.3217002e-07,  3.6012256e-07,  9.9603000e-08],\n",
            "       [ 4.3835428e-07,  5.1137567e-07, -8.6392014e-09, ...,\n",
            "        -3.4304998e-07,  4.4756419e-07,  3.9171215e-07],\n",
            "       [-2.5359816e-07,  1.2423076e-06, -3.1111608e-07, ...,\n",
            "         5.4810710e-07, -7.2773361e-09, -1.6764031e-07],\n",
            "       ...,\n",
            "       [ 1.7225179e-07, -4.5711153e-07,  6.0861942e-07, ...,\n",
            "         1.3189947e-08,  2.7164839e-07,  3.9732964e-07],\n",
            "       [-5.2123755e-07,  2.4879995e-07, -5.0465457e-07, ...,\n",
            "         8.3197040e-07, -6.3780550e-07, -6.5430874e-07],\n",
            "       [ 2.9040166e-07, -9.1018387e-07,  4.8330827e-07, ...,\n",
            "         4.8687218e-07, -1.5530688e-08, -5.2263758e-09]], dtype=float32)>, <tf.Tensor: shape=(256, 1024), dtype=float32, numpy=\n",
            "array([[-3.79747007e-08,  1.10116737e-07,  9.69658487e-09, ...,\n",
            "         8.38004865e-09, -4.99040134e-08, -4.54574192e-08],\n",
            "       [-7.41527231e-08,  1.74846946e-08, -1.74884018e-08, ...,\n",
            "         1.35118796e-07, -1.62378257e-07, -1.04079476e-07],\n",
            "       [ 5.76145212e-08,  8.67943015e-08,  1.79785943e-07, ...,\n",
            "         7.34626582e-08, -4.66678216e-08, -6.63388349e-08],\n",
            "       ...,\n",
            "       [-5.11828233e-08,  4.56017446e-10,  8.42960048e-08, ...,\n",
            "        -1.99468104e-08, -5.69890872e-08, -8.17692083e-08],\n",
            "       [-2.95458378e-08, -2.39856831e-07, -7.11905024e-09, ...,\n",
            "        -6.80125893e-08, -4.25235669e-07,  1.77612591e-10],\n",
            "       [-1.93238954e-08,  4.11410781e-08, -4.19094306e-08, ...,\n",
            "         4.63132537e-08, -1.69950255e-07, -2.54639701e-07]], dtype=float32)>, <tf.Tensor: shape=(1024,), dtype=float32, numpy=\n",
            "array([ 2.3601397e-06,  2.5811958e-05,  1.0009021e-05, ...,\n",
            "        6.1267547e-06, -8.6075415e-06,  2.0896439e-05], dtype=float32)>, <tf.Tensor: shape=(256, 512), dtype=float32, numpy=\n",
            "array([[ 8.3795598e-08, -6.5523238e-08, -9.9555834e-08, ...,\n",
            "         4.0186887e-08, -2.4826539e-08,  1.0475421e-08],\n",
            "       [ 2.5001127e-08,  2.9366859e-07,  2.8418745e-07, ...,\n",
            "         2.4078133e-07,  7.4534547e-08, -1.7647059e-07],\n",
            "       [ 5.3791464e-08, -1.6657249e-07,  1.3429824e-08, ...,\n",
            "        -4.8332134e-07,  9.7020333e-08,  3.0612266e-08],\n",
            "       ...,\n",
            "       [-6.7243533e-08,  2.3474014e-07, -7.6898878e-08, ...,\n",
            "        -4.9399608e-07,  2.0737089e-07, -4.5566754e-08],\n",
            "       [ 1.0927954e-07,  2.9759804e-07, -1.2343504e-07, ...,\n",
            "        -2.6036216e-07,  4.8751723e-08,  3.2396082e-07],\n",
            "       [ 1.0281622e-07,  1.6560744e-08, -1.7365556e-07, ...,\n",
            "        -2.4130546e-07, -3.4009366e-07, -1.4723634e-07]], dtype=float32)>, <tf.Tensor: shape=(128, 512), dtype=float32, numpy=\n",
            "array([[ 4.68121115e-08, -4.28279279e-09,  7.80702365e-08, ...,\n",
            "         6.84892498e-08,  7.11245605e-08,  1.46145396e-07],\n",
            "       [-6.00053198e-08, -2.63459526e-07,  4.45279049e-08, ...,\n",
            "         1.01317816e-07, -9.03111896e-08, -6.47725074e-08],\n",
            "       [ 8.70961401e-08, -4.06714875e-08, -3.98826728e-07, ...,\n",
            "        -2.24665939e-07,  3.04800345e-08, -1.10844994e-07],\n",
            "       ...,\n",
            "       [-1.65127560e-07, -6.61953408e-08,  4.34239666e-07, ...,\n",
            "         7.81371909e-07,  5.64069325e-09, -1.58186694e-07],\n",
            "       [-7.58652448e-08, -1.22618971e-07, -9.76088117e-08, ...,\n",
            "        -1.36203155e-07, -2.98165105e-07, -9.26226988e-08],\n",
            "       [-4.05788789e-08, -5.82374255e-08,  1.26460677e-07, ...,\n",
            "         9.68613278e-08,  1.40233624e-07, -1.82244975e-07]], dtype=float32)>, <tf.Tensor: shape=(512,), dtype=float32, numpy=\n",
            "array([-1.80994459e-06,  3.48619724e-05,  2.82541005e-05, -1.80784409e-05,\n",
            "        7.03344995e-07,  8.44352508e-06,  2.66226198e-06, -8.70095755e-06,\n",
            "       -5.34659557e-05,  2.09394166e-05, -4.25042526e-05, -1.38391752e-05,\n",
            "        5.69942131e-05, -3.51027256e-06, -1.14589066e-05,  4.02952082e-06,\n",
            "        7.86027704e-06,  3.29062823e-05, -1.66359605e-05,  8.32940350e-06,\n",
            "        4.80773233e-05,  2.05580545e-05,  1.81109135e-05,  2.40335339e-05,\n",
            "       -1.23989084e-05, -1.58889779e-05,  2.83929257e-05, -1.23944483e-06,\n",
            "        1.03452876e-05, -3.02991521e-05, -7.23437115e-05, -2.60884372e-06,\n",
            "        1.26989707e-05, -5.25035393e-05, -4.28050262e-05, -9.47205353e-06,\n",
            "        1.08558188e-05,  1.15324628e-05,  2.24299474e-05, -2.20510519e-05,\n",
            "        9.38493213e-06,  6.78104607e-06,  2.11272209e-06,  3.74086012e-05,\n",
            "       -7.24246320e-07,  1.80405623e-05, -1.82057993e-05, -5.35381969e-06,\n",
            "       -1.96573019e-05,  3.37205056e-05,  1.28668371e-05, -5.48584376e-06,\n",
            "        1.59948395e-05,  2.55116665e-05,  7.92524770e-06,  3.23775457e-05,\n",
            "       -4.48124483e-05,  4.15474424e-05,  7.93246509e-05,  1.94745880e-05,\n",
            "        2.28050103e-05,  2.88013871e-06, -4.89247395e-06, -4.49913168e-05,\n",
            "        3.79495905e-05, -8.67138169e-06,  2.23227835e-05, -2.29851321e-05,\n",
            "       -5.89073034e-06, -3.58312464e-05,  5.54567523e-05, -4.25017133e-05,\n",
            "        5.51845769e-05,  6.15079125e-06,  6.69557048e-05, -3.03124707e-05,\n",
            "        2.59300487e-05, -3.04125369e-05, -5.62786445e-05, -6.59152920e-06,\n",
            "       -6.27108166e-05, -4.76195237e-05,  5.38023778e-06,  8.44263195e-06,\n",
            "       -1.88001450e-05,  8.96409256e-06,  7.30983447e-05, -3.03965517e-05,\n",
            "       -7.47594277e-06,  7.07154904e-05,  2.02752835e-06,  4.26775878e-05,\n",
            "        1.74607594e-05, -3.79795893e-07, -3.03307934e-05, -1.64280027e-06,\n",
            "       -3.49081783e-05, -1.19566121e-05, -2.21696828e-05,  1.73051285e-05,\n",
            "       -1.35926484e-07,  4.95125823e-05, -2.13200474e-05,  2.17208926e-05,\n",
            "       -8.80388870e-06, -9.60408033e-06,  1.92110219e-05,  6.18640934e-06,\n",
            "       -3.50798109e-05,  1.30617809e-05,  1.14876111e-05,  4.31852095e-06,\n",
            "        1.59805950e-06,  6.66013584e-05, -9.25884451e-05,  1.85624358e-05,\n",
            "       -2.20197526e-05, -1.92275766e-05, -5.97488724e-05, -1.72658492e-05,\n",
            "        2.37101649e-05, -1.39504373e-05, -3.72584054e-06, -3.95780298e-05,\n",
            "       -4.66645179e-06, -2.72603666e-06,  6.97249634e-05,  1.07056167e-06,\n",
            "       -1.84439741e-05,  5.51958146e-05,  3.51048511e-05, -2.88910142e-05,\n",
            "       -1.50051264e-05,  5.90283253e-06,  1.02177728e-05, -2.99671683e-05,\n",
            "       -6.63106039e-05,  4.74982371e-05, -5.03478950e-05, -2.71330209e-05,\n",
            "        7.16704817e-05, -3.66892746e-05, -2.91825036e-05,  2.37610220e-06,\n",
            "        1.47737428e-05,  4.10695066e-05, -3.12319244e-05,  2.02999108e-05,\n",
            "        5.89074261e-05,  1.88947779e-05,  2.76762694e-05,  5.65313203e-05,\n",
            "       -1.82967233e-05, -2.02122465e-05,  3.74344891e-05, -4.19464595e-06,\n",
            "        1.05084900e-05, -1.46385546e-05, -1.12118018e-04, -1.33635458e-05,\n",
            "        3.68710971e-05, -6.77552962e-05, -8.07921169e-05,  3.08784729e-06,\n",
            "       -2.17363868e-06, -5.27144812e-06,  3.76554635e-05, -9.43170744e-06,\n",
            "        8.71913289e-06, -9.07060712e-06, -8.65482070e-06, -1.14768573e-05,\n",
            "       -1.85151148e-05,  2.95820901e-05, -3.71423957e-05, -2.34971976e-05,\n",
            "       -3.03706656e-06,  4.08804917e-05, -1.16705278e-05, -2.77404306e-05,\n",
            "        3.73782132e-05,  1.79424969e-05,  3.75715317e-05,  3.54888834e-05,\n",
            "       -5.03356932e-05,  5.36807784e-05,  9.90951085e-05,  3.17832055e-05,\n",
            "        3.64844491e-05, -1.09448465e-05,  1.03494312e-05, -8.83449538e-05,\n",
            "        6.39461432e-05, -1.83399297e-05,  2.38769844e-05, -1.91626332e-05,\n",
            "        1.25390443e-06, -7.16232171e-05,  8.43415037e-05, -4.83593649e-05,\n",
            "        6.38082201e-05,  1.73680746e-05,  6.37564590e-05, -5.49036704e-05,\n",
            "        2.68613258e-05, -2.92238801e-05, -6.89851440e-05, -2.53218514e-06,\n",
            "       -7.00047240e-05, -5.72452809e-05,  9.48250727e-06,  1.65131751e-05,\n",
            "       -1.86888428e-05,  1.38008818e-05,  1.04280945e-04, -4.36681330e-05,\n",
            "       -2.28424233e-05,  7.81820127e-05, -1.81171345e-08,  3.81782593e-05,\n",
            "        2.45976335e-05, -2.24353926e-06, -1.36350391e-05, -7.68133941e-06,\n",
            "       -6.70602458e-05, -4.48324863e-05, -4.24454120e-05, -3.67973144e-06,\n",
            "        6.84071256e-06,  7.43232085e-05, -2.46196832e-05,  1.69902396e-05,\n",
            "       -1.32177493e-05, -1.59160991e-05, -1.74556717e-05, -1.27003987e-05,\n",
            "       -5.21551920e-05,  2.29561338e-05,  1.30731487e-05,  2.23725037e-05,\n",
            "        1.84543169e-05,  5.07372970e-05, -1.50342297e-04,  3.50303744e-05,\n",
            "       -4.45685946e-05, -5.49492579e-05, -6.77055141e-05,  4.03724698e-06,\n",
            "        5.05381176e-05, -3.17999220e-05, -9.02032298e-06, -7.07629661e-05,\n",
            "        2.10024882e-06,  2.25152417e-05,  8.39628701e-05, -1.37529896e-05,\n",
            "       -8.91371910e-03, -3.79188284e-02, -4.36640531e-02,  1.14922244e-02,\n",
            "        5.34215197e-02,  4.87138480e-02, -9.90196038e-03, -6.87386608e-04,\n",
            "        2.67888512e-02,  1.76570341e-02,  5.14323451e-03,  2.29609199e-02,\n",
            "        2.77990364e-02,  3.54047166e-03, -6.23908825e-04, -2.39832867e-02,\n",
            "        3.71595994e-02,  1.50672626e-02, -3.76306176e-02, -1.89424939e-02,\n",
            "        1.26288757e-02,  4.38417792e-02,  1.11045490e-03,  6.46029636e-02,\n",
            "       -1.89854670e-02, -1.69202909e-02,  2.03575976e-02,  2.01090351e-02,\n",
            "       -8.89325514e-03,  1.44629795e-02, -3.09244730e-02,  1.24776578e-02,\n",
            "        1.87105387e-02, -3.38915698e-02, -5.52832186e-02, -1.08708013e-02,\n",
            "       -3.37630697e-02, -9.10269469e-03, -4.31363732e-02, -7.23872613e-03,\n",
            "        6.98609129e-02, -3.03978822e-03,  4.39943224e-02,  1.78081747e-02,\n",
            "        7.09429616e-03,  2.24995669e-02, -2.01469520e-03, -1.07316151e-02,\n",
            "        5.06019779e-02,  1.24778450e-02, -2.08258368e-02, -1.40586533e-02,\n",
            "       -4.93078381e-02, -5.17540472e-03,  2.51913834e-02,  1.38833355e-02,\n",
            "       -3.13543854e-03,  2.29018740e-02, -2.88361274e-02, -2.49168798e-02,\n",
            "        1.15829334e-02, -2.37793475e-02,  1.18211731e-02, -2.41540708e-02,\n",
            "        8.29485245e-03, -1.92009285e-03,  1.05077969e-02,  7.83662498e-03,\n",
            "        6.65900297e-05, -5.00597432e-02, -1.68242157e-02, -2.60351747e-02,\n",
            "       -2.77750082e-02, -8.85470957e-03, -1.46696297e-02,  4.41161916e-02,\n",
            "       -3.43513712e-02, -1.04688127e-02,  4.79146540e-02,  3.29595134e-02,\n",
            "        1.06042018e-02,  9.28981975e-03, -3.48510593e-02,  2.59693824e-02,\n",
            "       -1.81056894e-02,  3.99923511e-02, -4.14233841e-02, -3.00843865e-02,\n",
            "        2.80706026e-02, -3.74886990e-02,  4.39985516e-03,  1.71693005e-02,\n",
            "        2.97333710e-02,  3.09329256e-02,  7.95642938e-03, -1.07969362e-02,\n",
            "        1.85184777e-02,  2.72760391e-02, -1.43686756e-02,  2.10508332e-02,\n",
            "        1.55296968e-02, -4.39406186e-02, -2.18863953e-02,  3.88420746e-02,\n",
            "        1.24979252e-03, -6.99204160e-03,  2.52430253e-02, -3.21506001e-02,\n",
            "       -3.02582160e-02, -2.38000378e-02, -3.65356379e-03,  2.56385226e-02,\n",
            "       -3.82592976e-02,  1.13528091e-02,  2.87080575e-02,  1.37081863e-02,\n",
            "       -2.14658175e-02,  2.47883964e-02,  2.36750990e-02,  4.24804213e-03,\n",
            "       -2.42333189e-02,  1.14537440e-02,  3.13205924e-03, -3.51817049e-02,\n",
            "       -1.12561015e-02,  5.87467179e-02, -4.20221686e-02,  4.67287749e-03,\n",
            "       -8.17194177e-06,  4.19408025e-05,  2.83505633e-05, -3.34652432e-05,\n",
            "       -7.38839481e-06,  3.25141264e-06,  8.01791884e-06, -1.23990139e-05,\n",
            "       -4.70708292e-05,  2.61464811e-05, -3.36074481e-05, -1.18883345e-05,\n",
            "        6.07343172e-05, -2.13594967e-06, -1.11202053e-05, -1.14979048e-06,\n",
            "        8.67022572e-06,  3.34773067e-05, -1.40871043e-05,  4.47360253e-06,\n",
            "        6.23519591e-05,  2.40567024e-05,  2.01094736e-05,  3.08717172e-05,\n",
            "       -1.16894953e-05, -1.16954689e-05,  3.32210766e-05,  6.00863859e-06,\n",
            "        6.92046797e-07, -2.94711790e-05, -8.05552845e-05, -1.80269581e-06,\n",
            "        1.28399533e-05, -4.61511554e-05, -4.35052534e-05, -5.53011159e-06,\n",
            "        9.61125352e-06,  1.11019272e-05,  2.28643094e-05, -2.39865294e-05,\n",
            "        1.12057915e-05,  3.05301501e-06,  4.10403845e-06,  3.74069386e-05,\n",
            "       -2.04462731e-06,  1.68087008e-05, -1.86942416e-05,  2.61698915e-07,\n",
            "       -3.08235321e-05,  5.07516379e-05,  2.74008016e-05, -4.41625525e-06,\n",
            "        3.33110111e-05,  2.45616429e-05,  1.21756993e-05,  3.66220993e-05,\n",
            "       -4.97514266e-05,  4.05918036e-05,  8.28118573e-05,  2.45402771e-05,\n",
            "        2.28869540e-05,  2.61593323e-06, -1.85945282e-05, -5.31850383e-05,\n",
            "        3.74128722e-05, -1.31222587e-05,  2.19566682e-05, -2.54583229e-05,\n",
            "       -1.10402152e-05, -4.60057126e-05,  6.37808189e-05, -5.04838099e-05,\n",
            "        7.03419864e-05, -2.99496605e-08,  7.21245160e-05, -2.22257222e-05,\n",
            "        3.36149933e-05, -3.45841327e-05, -6.30919894e-05, -1.64211488e-05,\n",
            "       -5.85481976e-05, -4.09438799e-05,  8.29386772e-06,  2.37980203e-06,\n",
            "       -2.20201728e-05,  1.57975046e-05,  8.27188996e-05, -3.26787776e-05,\n",
            "       -2.05701417e-05,  7.40805044e-05,  3.80447727e-06,  4.74466651e-05,\n",
            "        1.60924501e-05, -2.08198026e-06, -2.92388486e-05,  5.96646896e-06,\n",
            "       -3.54012445e-05, -2.22862363e-05, -2.47478256e-05,  1.78786722e-05,\n",
            "        2.91983406e-06,  5.37839587e-05, -2.13340463e-05,  1.58941984e-05,\n",
            "       -1.10845776e-05, -1.00657344e-05,  2.04802818e-05,  3.75670788e-06,\n",
            "       -4.54453548e-05,  1.05417585e-05,  1.81997057e-05,  4.56002999e-06,\n",
            "       -3.26979716e-07,  7.63533171e-05, -1.05629551e-04,  2.24729483e-05,\n",
            "       -2.62119956e-05, -2.58761174e-05, -6.02971413e-05, -1.25371780e-05,\n",
            "        3.75291893e-05, -2.23503248e-05, -3.36681933e-06, -3.79269150e-05,\n",
            "       -5.32980448e-06, -4.10057692e-06,  8.26617616e-05, -7.41492386e-06],\n",
            "      dtype=float32)>, <tf.Tensor: shape=(128, 10000), dtype=float32, numpy=\n",
            "array([[-1.4924406e-03, -2.6744858e-03, -2.3594233e-03, ...,\n",
            "         3.4518234e-06,  3.4519117e-06,  3.4514705e-06],\n",
            "       [ 1.1939555e-03,  1.9656541e-03,  1.3414163e-03, ...,\n",
            "        -2.5537956e-06, -2.5550387e-06, -2.5554559e-06],\n",
            "       [-7.5331825e-04, -1.2221796e-04, -1.3600289e-03, ...,\n",
            "         3.5974983e-07,  3.6051438e-07,  3.6008794e-07],\n",
            "       ...,\n",
            "       [-6.4129115e-04, -2.5284773e-04, -1.7630535e-03, ...,\n",
            "         2.7428121e-06,  2.7425110e-06,  2.7407582e-06],\n",
            "       [ 7.4021751e-05,  1.6264486e-03,  1.0915480e-03, ...,\n",
            "        -2.6829073e-06, -2.6818952e-06, -2.6794996e-06],\n",
            "       [-1.0368509e-03, -1.0530208e-03, -1.1914916e-03, ...,\n",
            "         3.0924930e-06,  3.0917581e-06,  3.0896163e-06]], dtype=float32)>, <tf.Tensor: shape=(10000,), dtype=float32, numpy=\n",
            "array([-0.7979981 , -1.0313317 , -1.0313315 , ...,  0.00200034,\n",
            "        0.00200041,  0.00200007], dtype=float32)>]\n"
          ]
        }
      ],
      "source": [
        "print(grad_t_list)"
      ]
    },
    {
      "cell_type": "markdown",
      "metadata": {
        "id": "21d37c26-4a04-45fb-879c-51c086228a8e"
      },
      "source": [
        "\n",
        "\n",
        "\n",
        "now, we have a list of tensors, t-list. We can use it to find clipped tensors. <b>clip_by_global_norm</b> clips values of multiple tensors by the ratio of the sum of their norms.\n",
        "\n",
        "<b>clip_by_global_norm</b> get <i>t-list</i> as input and returns 2 things:\n",
        "<ul>\n",
        "    <li>a list of clipped tensors, so called <i>list_clipped</i></li>\n",
        "    <li>the global norm (global_norm) of all tensors in t_list</li>\n",
        "</ul>\n"
      ]
    },
    {
      "cell_type": "code",
      "execution_count": 48,
      "metadata": {
        "colab": {
          "base_uri": "https://localhost:8080/"
        },
        "id": "0c96ef82-a964-4623-bd7b-dce1c5339ef7",
        "outputId": "87730b67-95ec-4c16-afca-421169e2ea8f"
      },
      "outputs": [
        {
          "data": {
            "text/plain": [
              "[<tensorflow.python.framework.indexed_slices.IndexedSlices at 0x7e136914c2b0>,\n",
              " <tf.Tensor: shape=(200, 1024), dtype=float32, numpy=\n",
              " array([[ 3.7876828e-07, -1.1112128e-07, -9.0141214e-08, ...,\n",
              "         -2.3217002e-07,  3.6012256e-07,  9.9603000e-08],\n",
              "        [ 4.3835428e-07,  5.1137567e-07, -8.6392014e-09, ...,\n",
              "         -3.4304998e-07,  4.4756419e-07,  3.9171215e-07],\n",
              "        [-2.5359816e-07,  1.2423076e-06, -3.1111608e-07, ...,\n",
              "          5.4810710e-07, -7.2773361e-09, -1.6764031e-07],\n",
              "        ...,\n",
              "        [ 1.7225179e-07, -4.5711153e-07,  6.0861942e-07, ...,\n",
              "          1.3189947e-08,  2.7164839e-07,  3.9732964e-07],\n",
              "        [-5.2123755e-07,  2.4879995e-07, -5.0465457e-07, ...,\n",
              "          8.3197040e-07, -6.3780550e-07, -6.5430874e-07],\n",
              "        [ 2.9040166e-07, -9.1018387e-07,  4.8330827e-07, ...,\n",
              "          4.8687218e-07, -1.5530688e-08, -5.2263758e-09]], dtype=float32)>,\n",
              " <tf.Tensor: shape=(256, 1024), dtype=float32, numpy=\n",
              " array([[-3.79747007e-08,  1.10116737e-07,  9.69658487e-09, ...,\n",
              "          8.38004865e-09, -4.99040134e-08, -4.54574192e-08],\n",
              "        [-7.41527231e-08,  1.74846946e-08, -1.74884018e-08, ...,\n",
              "          1.35118796e-07, -1.62378257e-07, -1.04079476e-07],\n",
              "        [ 5.76145212e-08,  8.67943015e-08,  1.79785943e-07, ...,\n",
              "          7.34626582e-08, -4.66678216e-08, -6.63388349e-08],\n",
              "        ...,\n",
              "        [-5.11828233e-08,  4.56017446e-10,  8.42960048e-08, ...,\n",
              "         -1.99468104e-08, -5.69890872e-08, -8.17692083e-08],\n",
              "        [-2.95458378e-08, -2.39856831e-07, -7.11905024e-09, ...,\n",
              "         -6.80125893e-08, -4.25235669e-07,  1.77612591e-10],\n",
              "        [-1.93238954e-08,  4.11410781e-08, -4.19094306e-08, ...,\n",
              "          4.63132537e-08, -1.69950255e-07, -2.54639701e-07]], dtype=float32)>,\n",
              " <tf.Tensor: shape=(1024,), dtype=float32, numpy=\n",
              " array([ 2.3601397e-06,  2.5811958e-05,  1.0009021e-05, ...,\n",
              "         6.1267547e-06, -8.6075415e-06,  2.0896439e-05], dtype=float32)>,\n",
              " <tf.Tensor: shape=(256, 512), dtype=float32, numpy=\n",
              " array([[ 8.3795598e-08, -6.5523238e-08, -9.9555834e-08, ...,\n",
              "          4.0186887e-08, -2.4826539e-08,  1.0475421e-08],\n",
              "        [ 2.5001127e-08,  2.9366859e-07,  2.8418745e-07, ...,\n",
              "          2.4078133e-07,  7.4534547e-08, -1.7647059e-07],\n",
              "        [ 5.3791464e-08, -1.6657249e-07,  1.3429824e-08, ...,\n",
              "         -4.8332134e-07,  9.7020333e-08,  3.0612266e-08],\n",
              "        ...,\n",
              "        [-6.7243533e-08,  2.3474014e-07, -7.6898878e-08, ...,\n",
              "         -4.9399608e-07,  2.0737089e-07, -4.5566754e-08],\n",
              "        [ 1.0927954e-07,  2.9759804e-07, -1.2343504e-07, ...,\n",
              "         -2.6036216e-07,  4.8751723e-08,  3.2396082e-07],\n",
              "        [ 1.0281622e-07,  1.6560744e-08, -1.7365556e-07, ...,\n",
              "         -2.4130546e-07, -3.4009366e-07, -1.4723634e-07]], dtype=float32)>,\n",
              " <tf.Tensor: shape=(128, 512), dtype=float32, numpy=\n",
              " array([[ 4.68121115e-08, -4.28279279e-09,  7.80702365e-08, ...,\n",
              "          6.84892498e-08,  7.11245605e-08,  1.46145396e-07],\n",
              "        [-6.00053198e-08, -2.63459526e-07,  4.45279049e-08, ...,\n",
              "          1.01317816e-07, -9.03111896e-08, -6.47725074e-08],\n",
              "        [ 8.70961401e-08, -4.06714875e-08, -3.98826728e-07, ...,\n",
              "         -2.24665939e-07,  3.04800345e-08, -1.10844994e-07],\n",
              "        ...,\n",
              "        [-1.65127560e-07, -6.61953408e-08,  4.34239666e-07, ...,\n",
              "          7.81371909e-07,  5.64069325e-09, -1.58186694e-07],\n",
              "        [-7.58652448e-08, -1.22618971e-07, -9.76088117e-08, ...,\n",
              "         -1.36203155e-07, -2.98165105e-07, -9.26226988e-08],\n",
              "        [-4.05788789e-08, -5.82374255e-08,  1.26460677e-07, ...,\n",
              "          9.68613278e-08,  1.40233624e-07, -1.82244975e-07]], dtype=float32)>,\n",
              " <tf.Tensor: shape=(512,), dtype=float32, numpy=\n",
              " array([-1.80994459e-06,  3.48619724e-05,  2.82541005e-05, -1.80784409e-05,\n",
              "         7.03344995e-07,  8.44352508e-06,  2.66226198e-06, -8.70095755e-06,\n",
              "        -5.34659557e-05,  2.09394166e-05, -4.25042526e-05, -1.38391752e-05,\n",
              "         5.69942131e-05, -3.51027256e-06, -1.14589066e-05,  4.02952082e-06,\n",
              "         7.86027704e-06,  3.29062823e-05, -1.66359605e-05,  8.32940350e-06,\n",
              "         4.80773233e-05,  2.05580545e-05,  1.81109135e-05,  2.40335339e-05,\n",
              "        -1.23989084e-05, -1.58889779e-05,  2.83929257e-05, -1.23944483e-06,\n",
              "         1.03452876e-05, -3.02991521e-05, -7.23437115e-05, -2.60884372e-06,\n",
              "         1.26989707e-05, -5.25035393e-05, -4.28050262e-05, -9.47205353e-06,\n",
              "         1.08558188e-05,  1.15324628e-05,  2.24299474e-05, -2.20510519e-05,\n",
              "         9.38493213e-06,  6.78104607e-06,  2.11272209e-06,  3.74086012e-05,\n",
              "        -7.24246320e-07,  1.80405623e-05, -1.82057993e-05, -5.35381969e-06,\n",
              "        -1.96573019e-05,  3.37205056e-05,  1.28668371e-05, -5.48584376e-06,\n",
              "         1.59948395e-05,  2.55116665e-05,  7.92524770e-06,  3.23775457e-05,\n",
              "        -4.48124483e-05,  4.15474424e-05,  7.93246509e-05,  1.94745880e-05,\n",
              "         2.28050103e-05,  2.88013871e-06, -4.89247395e-06, -4.49913168e-05,\n",
              "         3.79495905e-05, -8.67138169e-06,  2.23227835e-05, -2.29851321e-05,\n",
              "        -5.89073034e-06, -3.58312464e-05,  5.54567523e-05, -4.25017133e-05,\n",
              "         5.51845769e-05,  6.15079125e-06,  6.69557048e-05, -3.03124707e-05,\n",
              "         2.59300487e-05, -3.04125369e-05, -5.62786445e-05, -6.59152920e-06,\n",
              "        -6.27108166e-05, -4.76195237e-05,  5.38023778e-06,  8.44263195e-06,\n",
              "        -1.88001450e-05,  8.96409256e-06,  7.30983447e-05, -3.03965517e-05,\n",
              "        -7.47594277e-06,  7.07154904e-05,  2.02752835e-06,  4.26775878e-05,\n",
              "         1.74607594e-05, -3.79795893e-07, -3.03307934e-05, -1.64280027e-06,\n",
              "        -3.49081783e-05, -1.19566121e-05, -2.21696828e-05,  1.73051285e-05,\n",
              "        -1.35926484e-07,  4.95125823e-05, -2.13200474e-05,  2.17208926e-05,\n",
              "        -8.80388870e-06, -9.60408033e-06,  1.92110219e-05,  6.18640934e-06,\n",
              "        -3.50798109e-05,  1.30617809e-05,  1.14876111e-05,  4.31852095e-06,\n",
              "         1.59805950e-06,  6.66013584e-05, -9.25884451e-05,  1.85624358e-05,\n",
              "        -2.20197526e-05, -1.92275766e-05, -5.97488724e-05, -1.72658492e-05,\n",
              "         2.37101649e-05, -1.39504373e-05, -3.72584054e-06, -3.95780298e-05,\n",
              "        -4.66645179e-06, -2.72603666e-06,  6.97249634e-05,  1.07056167e-06,\n",
              "        -1.84439741e-05,  5.51958146e-05,  3.51048511e-05, -2.88910142e-05,\n",
              "        -1.50051264e-05,  5.90283253e-06,  1.02177728e-05, -2.99671683e-05,\n",
              "        -6.63106039e-05,  4.74982371e-05, -5.03478950e-05, -2.71330209e-05,\n",
              "         7.16704817e-05, -3.66892746e-05, -2.91825036e-05,  2.37610220e-06,\n",
              "         1.47737428e-05,  4.10695066e-05, -3.12319244e-05,  2.02999108e-05,\n",
              "         5.89074261e-05,  1.88947779e-05,  2.76762694e-05,  5.65313203e-05,\n",
              "        -1.82967233e-05, -2.02122465e-05,  3.74344891e-05, -4.19464595e-06,\n",
              "         1.05084900e-05, -1.46385546e-05, -1.12118018e-04, -1.33635458e-05,\n",
              "         3.68710971e-05, -6.77552962e-05, -8.07921169e-05,  3.08784729e-06,\n",
              "        -2.17363868e-06, -5.27144812e-06,  3.76554635e-05, -9.43170744e-06,\n",
              "         8.71913289e-06, -9.07060712e-06, -8.65482070e-06, -1.14768573e-05,\n",
              "        -1.85151148e-05,  2.95820901e-05, -3.71423957e-05, -2.34971976e-05,\n",
              "        -3.03706656e-06,  4.08804917e-05, -1.16705278e-05, -2.77404306e-05,\n",
              "         3.73782132e-05,  1.79424969e-05,  3.75715317e-05,  3.54888834e-05,\n",
              "        -5.03356932e-05,  5.36807784e-05,  9.90951085e-05,  3.17832055e-05,\n",
              "         3.64844491e-05, -1.09448465e-05,  1.03494312e-05, -8.83449538e-05,\n",
              "         6.39461432e-05, -1.83399297e-05,  2.38769844e-05, -1.91626332e-05,\n",
              "         1.25390443e-06, -7.16232171e-05,  8.43415037e-05, -4.83593649e-05,\n",
              "         6.38082201e-05,  1.73680746e-05,  6.37564590e-05, -5.49036704e-05,\n",
              "         2.68613258e-05, -2.92238801e-05, -6.89851440e-05, -2.53218514e-06,\n",
              "        -7.00047240e-05, -5.72452809e-05,  9.48250727e-06,  1.65131751e-05,\n",
              "        -1.86888428e-05,  1.38008818e-05,  1.04280945e-04, -4.36681330e-05,\n",
              "        -2.28424233e-05,  7.81820127e-05, -1.81171345e-08,  3.81782593e-05,\n",
              "         2.45976335e-05, -2.24353926e-06, -1.36350391e-05, -7.68133941e-06,\n",
              "        -6.70602458e-05, -4.48324863e-05, -4.24454120e-05, -3.67973144e-06,\n",
              "         6.84071256e-06,  7.43232085e-05, -2.46196832e-05,  1.69902396e-05,\n",
              "        -1.32177493e-05, -1.59160991e-05, -1.74556717e-05, -1.27003987e-05,\n",
              "        -5.21551920e-05,  2.29561338e-05,  1.30731487e-05,  2.23725037e-05,\n",
              "         1.84543169e-05,  5.07372970e-05, -1.50342297e-04,  3.50303744e-05,\n",
              "        -4.45685946e-05, -5.49492579e-05, -6.77055141e-05,  4.03724698e-06,\n",
              "         5.05381176e-05, -3.17999220e-05, -9.02032298e-06, -7.07629661e-05,\n",
              "         2.10024882e-06,  2.25152417e-05,  8.39628701e-05, -1.37529896e-05,\n",
              "        -8.91371910e-03, -3.79188284e-02, -4.36640531e-02,  1.14922244e-02,\n",
              "         5.34215197e-02,  4.87138480e-02, -9.90196038e-03, -6.87386608e-04,\n",
              "         2.67888512e-02,  1.76570341e-02,  5.14323451e-03,  2.29609199e-02,\n",
              "         2.77990364e-02,  3.54047166e-03, -6.23908825e-04, -2.39832867e-02,\n",
              "         3.71595994e-02,  1.50672626e-02, -3.76306176e-02, -1.89424939e-02,\n",
              "         1.26288757e-02,  4.38417792e-02,  1.11045490e-03,  6.46029636e-02,\n",
              "        -1.89854670e-02, -1.69202909e-02,  2.03575976e-02,  2.01090351e-02,\n",
              "        -8.89325514e-03,  1.44629795e-02, -3.09244730e-02,  1.24776578e-02,\n",
              "         1.87105387e-02, -3.38915698e-02, -5.52832186e-02, -1.08708013e-02,\n",
              "        -3.37630697e-02, -9.10269469e-03, -4.31363732e-02, -7.23872613e-03,\n",
              "         6.98609129e-02, -3.03978822e-03,  4.39943224e-02,  1.78081747e-02,\n",
              "         7.09429616e-03,  2.24995669e-02, -2.01469520e-03, -1.07316151e-02,\n",
              "         5.06019779e-02,  1.24778450e-02, -2.08258368e-02, -1.40586533e-02,\n",
              "        -4.93078381e-02, -5.17540472e-03,  2.51913834e-02,  1.38833355e-02,\n",
              "        -3.13543854e-03,  2.29018740e-02, -2.88361274e-02, -2.49168798e-02,\n",
              "         1.15829334e-02, -2.37793475e-02,  1.18211731e-02, -2.41540708e-02,\n",
              "         8.29485245e-03, -1.92009285e-03,  1.05077969e-02,  7.83662498e-03,\n",
              "         6.65900297e-05, -5.00597432e-02, -1.68242157e-02, -2.60351747e-02,\n",
              "        -2.77750082e-02, -8.85470957e-03, -1.46696297e-02,  4.41161916e-02,\n",
              "        -3.43513712e-02, -1.04688127e-02,  4.79146540e-02,  3.29595134e-02,\n",
              "         1.06042018e-02,  9.28981975e-03, -3.48510593e-02,  2.59693824e-02,\n",
              "        -1.81056894e-02,  3.99923511e-02, -4.14233841e-02, -3.00843865e-02,\n",
              "         2.80706026e-02, -3.74886990e-02,  4.39985516e-03,  1.71693005e-02,\n",
              "         2.97333710e-02,  3.09329256e-02,  7.95642938e-03, -1.07969362e-02,\n",
              "         1.85184777e-02,  2.72760391e-02, -1.43686756e-02,  2.10508332e-02,\n",
              "         1.55296968e-02, -4.39406186e-02, -2.18863953e-02,  3.88420746e-02,\n",
              "         1.24979252e-03, -6.99204160e-03,  2.52430253e-02, -3.21506001e-02,\n",
              "        -3.02582160e-02, -2.38000378e-02, -3.65356379e-03,  2.56385226e-02,\n",
              "        -3.82592976e-02,  1.13528091e-02,  2.87080575e-02,  1.37081863e-02,\n",
              "        -2.14658175e-02,  2.47883964e-02,  2.36750990e-02,  4.24804213e-03,\n",
              "        -2.42333189e-02,  1.14537440e-02,  3.13205924e-03, -3.51817049e-02,\n",
              "        -1.12561015e-02,  5.87467179e-02, -4.20221686e-02,  4.67287749e-03,\n",
              "        -8.17194177e-06,  4.19408025e-05,  2.83505633e-05, -3.34652432e-05,\n",
              "        -7.38839481e-06,  3.25141264e-06,  8.01791884e-06, -1.23990139e-05,\n",
              "        -4.70708292e-05,  2.61464811e-05, -3.36074481e-05, -1.18883345e-05,\n",
              "         6.07343172e-05, -2.13594967e-06, -1.11202053e-05, -1.14979048e-06,\n",
              "         8.67022572e-06,  3.34773067e-05, -1.40871043e-05,  4.47360253e-06,\n",
              "         6.23519591e-05,  2.40567024e-05,  2.01094736e-05,  3.08717172e-05,\n",
              "        -1.16894953e-05, -1.16954689e-05,  3.32210766e-05,  6.00863859e-06,\n",
              "         6.92046797e-07, -2.94711790e-05, -8.05552845e-05, -1.80269581e-06,\n",
              "         1.28399533e-05, -4.61511554e-05, -4.35052534e-05, -5.53011159e-06,\n",
              "         9.61125352e-06,  1.11019272e-05,  2.28643094e-05, -2.39865294e-05,\n",
              "         1.12057915e-05,  3.05301501e-06,  4.10403845e-06,  3.74069386e-05,\n",
              "        -2.04462731e-06,  1.68087008e-05, -1.86942416e-05,  2.61698915e-07,\n",
              "        -3.08235321e-05,  5.07516379e-05,  2.74008016e-05, -4.41625525e-06,\n",
              "         3.33110111e-05,  2.45616429e-05,  1.21756993e-05,  3.66220993e-05,\n",
              "        -4.97514266e-05,  4.05918036e-05,  8.28118573e-05,  2.45402771e-05,\n",
              "         2.28869540e-05,  2.61593323e-06, -1.85945282e-05, -5.31850383e-05,\n",
              "         3.74128722e-05, -1.31222587e-05,  2.19566682e-05, -2.54583229e-05,\n",
              "        -1.10402152e-05, -4.60057126e-05,  6.37808189e-05, -5.04838099e-05,\n",
              "         7.03419864e-05, -2.99496605e-08,  7.21245160e-05, -2.22257222e-05,\n",
              "         3.36149933e-05, -3.45841327e-05, -6.30919894e-05, -1.64211488e-05,\n",
              "        -5.85481976e-05, -4.09438799e-05,  8.29386772e-06,  2.37980203e-06,\n",
              "        -2.20201728e-05,  1.57975046e-05,  8.27188996e-05, -3.26787776e-05,\n",
              "        -2.05701417e-05,  7.40805044e-05,  3.80447727e-06,  4.74466651e-05,\n",
              "         1.60924501e-05, -2.08198026e-06, -2.92388486e-05,  5.96646896e-06,\n",
              "        -3.54012445e-05, -2.22862363e-05, -2.47478256e-05,  1.78786722e-05,\n",
              "         2.91983406e-06,  5.37839587e-05, -2.13340463e-05,  1.58941984e-05,\n",
              "        -1.10845776e-05, -1.00657344e-05,  2.04802818e-05,  3.75670788e-06,\n",
              "        -4.54453548e-05,  1.05417585e-05,  1.81997057e-05,  4.56002999e-06,\n",
              "        -3.26979716e-07,  7.63533171e-05, -1.05629551e-04,  2.24729483e-05,\n",
              "        -2.62119956e-05, -2.58761174e-05, -6.02971413e-05, -1.25371780e-05,\n",
              "         3.75291893e-05, -2.23503248e-05, -3.36681933e-06, -3.79269150e-05,\n",
              "        -5.32980448e-06, -4.10057692e-06,  8.26617616e-05, -7.41492386e-06],\n",
              "       dtype=float32)>,\n",
              " <tf.Tensor: shape=(128, 10000), dtype=float32, numpy=\n",
              " array([[-1.4924406e-03, -2.6744858e-03, -2.3594233e-03, ...,\n",
              "          3.4518234e-06,  3.4519117e-06,  3.4514705e-06],\n",
              "        [ 1.1939555e-03,  1.9656541e-03,  1.3414163e-03, ...,\n",
              "         -2.5537956e-06, -2.5550387e-06, -2.5554559e-06],\n",
              "        [-7.5331825e-04, -1.2221796e-04, -1.3600289e-03, ...,\n",
              "          3.5974983e-07,  3.6051438e-07,  3.6008794e-07],\n",
              "        ...,\n",
              "        [-6.4129115e-04, -2.5284773e-04, -1.7630535e-03, ...,\n",
              "          2.7428121e-06,  2.7425110e-06,  2.7407582e-06],\n",
              "        [ 7.4021751e-05,  1.6264486e-03,  1.0915480e-03, ...,\n",
              "         -2.6829073e-06, -2.6818952e-06, -2.6794996e-06],\n",
              "        [-1.0368509e-03, -1.0530208e-03, -1.1914916e-03, ...,\n",
              "          3.0924930e-06,  3.0917581e-06,  3.0896163e-06]], dtype=float32)>,\n",
              " <tf.Tensor: shape=(10000,), dtype=float32, numpy=\n",
              " array([-0.7979981 , -1.0313317 , -1.0313315 , ...,  0.00200034,\n",
              "         0.00200041,  0.00200007], dtype=float32)>]"
            ]
          },
          "execution_count": 48,
          "metadata": {},
          "output_type": "execute_result"
        }
      ],
      "source": [
        "# Define the gradient clipping threshold\n",
        "grads, _ = tf.clip_by_global_norm(grad_t_list, max_grad_norm)\n",
        "grads"
      ]
    },
    {
      "cell_type": "markdown",
      "metadata": {
        "id": "c46b66fa-29b2-4fcd-a8ad-51adf110d694"
      },
      "source": [
        "<h4> 4.Apply the optimizer to the variables/gradients tuple. </h4>\n"
      ]
    },
    {
      "cell_type": "code",
      "execution_count": 49,
      "metadata": {
        "colab": {
          "base_uri": "https://localhost:8080/"
        },
        "id": "6dd4e0b8-fa55-4fe2-8b94-15d9f01d7bf3",
        "outputId": "d7d50da2-7d2b-4c8b-f4b9-2b408d2744a9"
      },
      "outputs": [
        {
          "name": "stderr",
          "output_type": "stream",
          "text": [
            "WARNING:tensorflow:5 out of the last 5 calls to <function _BaseOptimizer._update_step_xla at 0x7e136919c700> triggered tf.function retracing. Tracing is expensive and the excessive number of tracings could be due to (1) creating @tf.function repeatedly in a loop, (2) passing tensors with different shapes, (3) passing Python objects instead of tensors. For (1), please define your @tf.function outside of the loop. For (2), @tf.function has reduce_retracing=True option that can avoid unnecessary retracing. For (3), please refer to https://www.tensorflow.org/guide/function#controlling_retracing and https://www.tensorflow.org/api_docs/python/tf/function for  more details.\n",
            "WARNING:tensorflow:6 out of the last 6 calls to <function _BaseOptimizer._update_step_xla at 0x7e136919c700> triggered tf.function retracing. Tracing is expensive and the excessive number of tracings could be due to (1) creating @tf.function repeatedly in a loop, (2) passing tensors with different shapes, (3) passing Python objects instead of tensors. For (1), please define your @tf.function outside of the loop. For (2), @tf.function has reduce_retracing=True option that can avoid unnecessary retracing. For (3), please refer to https://www.tensorflow.org/guide/function#controlling_retracing and https://www.tensorflow.org/api_docs/python/tf/function for  more details.\n"
          ]
        }
      ],
      "source": [
        "# Create the training TensorFlow Operation through our optimizer\n",
        "train_op = optimizer.apply_gradients(zip(grads, tvars))"
      ]
    },
    {
      "cell_type": "markdown",
      "metadata": {
        "id": "bbef4c4b-d403-46cc-bb83-58c398e5fb0d"
      },
      "source": [
        "<a id=\"ltsm\"></a>\n",
        "<h2>LSTM</h2>\n"
      ]
    },
    {
      "cell_type": "markdown",
      "metadata": {
        "id": "102a5f98-327b-4290-8a3f-905fbf3847eb"
      },
      "source": [
        "We learned how the model is build step by step. Noe, let's then create a Class that represents our model. This class needs a few things:\n",
        "<ul>\n",
        "    <li>We have to create the model in accordance with our defined hyperparameters</li>\n",
        "    <li>We have to create the LSTM cell structure and connect them with our RNN structure</li>\n",
        "    <li>We have to create the word embeddings and point them to the input data</li>\n",
        "    <li>We have to create the input structure for our RNN</li>\n",
        "    <li>We need to create a logistic structure to return the probability of our words</li>\n",
        "    <li>We need to create the loss and cost functions for our optimizer to work, and then create the optimizer</li>\n",
        "    <li>And finally, we need to create a training operation that can be run to actually train our model</li>\n",
        "</ul>\n"
      ]
    },
    {
      "cell_type": "code",
      "execution_count": 50,
      "metadata": {
        "id": "f233006d-16fc-4db5-a860-abdc0e8429c7"
      },
      "outputs": [],
      "source": [
        "class PTBModel(object):\n",
        "    def __init__(self):\n",
        "        ######################################\n",
        "        # Setting parameters for ease of use #\n",
        "        ######################################\n",
        "        self.batch_size = batch_size\n",
        "        self.num_steps = num_steps\n",
        "        self.hidden_size_l1 = hidden_size_l1\n",
        "        self.hidden_size_l2 = hidden_size_l2\n",
        "        self.vocab_size = vocab_size\n",
        "        self.embeding_vector_size = embeding_vector_size\n",
        "        # Create a variable for the learning rate\n",
        "        self._lr = 1.0\n",
        "\n",
        "        ###############################################################################\n",
        "        # Initializing the model using keras Sequential API  #\n",
        "        ###############################################################################\n",
        "\n",
        "        self._model = tf.keras.models.Sequential()\n",
        "\n",
        "        ####################################################################\n",
        "        # Creating the word embeddings layer and adding it to the sequence #\n",
        "        ####################################################################\n",
        "        with tf.device(\"/GPU:0\"):#(\"/cpu:0\"):\n",
        "            # Create the embeddings for our input data. Size is hidden size.\n",
        "            self._embedding_layer = tf.keras.layers.Embedding(self.vocab_size, self.embeding_vector_size,batch_input_shape=(self.batch_size, self.num_steps),trainable=True,name=\"embedding_vocab\")  #[10000x200]\n",
        "            self._model.add(self._embedding_layer)\n",
        "\n",
        "        ##########################################################################\n",
        "        # Creating the LSTM cell structure and connect it with the RNN structure #\n",
        "        ##########################################################################\n",
        "        # Create the LSTM Cells.\n",
        "        # This creates only the structure for the LSTM and has to be associated with a RNN unit still.\n",
        "        # The argument  of LSTMCell is size of hidden layer, that is, the number of hidden units of the LSTM (inside A).\n",
        "        # LSTM cell processes one word at a time and computes probabilities of the possible continuations of the sentence.\n",
        "        lstm_cell_l1 = tf.keras.layers.LSTMCell(hidden_size_l1)\n",
        "        lstm_cell_l2 = tf.keras.layers.LSTMCell(hidden_size_l2)\n",
        "\n",
        "        # By taking in the LSTM cells as parameters, the StackedRNNCells function junctions the LSTM units to the RNN units.\n",
        "        # RNN cell composed sequentially of stacked simple cells.\n",
        "        stacked_lstm = tf.keras.layers.StackedRNNCells([lstm_cell_l1, lstm_cell_l2])\n",
        "\n",
        "        ############################################\n",
        "        # Creating the input structure for our RNN #\n",
        "        ############################################\n",
        "        # Input structure is 20x[30x200]\n",
        "        # Considering each word is represended by a 200 dimentional vector, and we have 30 batchs, we create 30 word-vectors of size [30xx2000]\n",
        "        # The input structure is fed from the embeddings, which are filled in by the input data\n",
        "        # Feeding a batch of b sentences to a RNN:\n",
        "        # In step 1,  first word of each of the b sentences (in a batch) is input in parallel.\n",
        "        # In step 2,  second word of each of the b sentences is input in parallel.\n",
        "        # The parallelism is only for efficiency.\n",
        "        # Each sentence in a batch is handled in parallel, but the network sees one word of a sentence at a time and does the computations accordingly.\n",
        "        # All the computations involving the words of all sentences in a batch at a given time step are done in parallel.\n",
        "\n",
        "        ########################################################################################################\n",
        "        # Instantiating our RNN model and setting stateful to True to feed forward the state to the next layer #\n",
        "        ########################################################################################################\n",
        "\n",
        "        self._RNNlayer = tf.keras.layers.RNN(stacked_lstm, [batch_size, num_steps], return_state=False, stateful=True, trainable=True)\n",
        "\n",
        "        # Define the initial state, i.e., the model state for the very first data point\n",
        "        # It initialize the state of the LSTM memory. The memory state of the network is initialized with a vector of zeros and gets updated after reading each word.\n",
        "        self._initial_state = tf.Variable(tf.zeros([batch_size, embeding_vector_size]), trainable=False)\n",
        "        self._RNNlayer.inital_state = self._initial_state\n",
        "\n",
        "        ############################################\n",
        "        # Adding RNN layer to keras sequential API #\n",
        "        ############################################\n",
        "        self._model.add(self._RNNlayer)\n",
        "\n",
        "        #self._model.add(tf.keras.layers.LSTM(hidden_size_l1,return_sequences=True,stateful=True))\n",
        "        #self._model.add(tf.keras.layers.LSTM(hidden_size_l2,return_sequences=True))\n",
        "\n",
        "        ####################################################################################################\n",
        "        # Instantiating a Dense layer that connects the output to the vocab_size  and adding layer to model#\n",
        "        ####################################################################################################\n",
        "        self._dense = tf.keras.layers.Dense(self.vocab_size)\n",
        "        self._model.add(self._dense)\n",
        "\n",
        "        ####################################################################################################\n",
        "        # Adding softmax activation layer and deriving probability to each class and adding layer to model #\n",
        "        ####################################################################################################\n",
        "        self._activation = tf.keras.layers.Activation('softmax')\n",
        "        self._model.add(self._activation)\n",
        "\n",
        "        ##########################################################\n",
        "        # Instantiating the stochastic gradient decent optimizer #\n",
        "        ##########################################################\n",
        "        self._optimizer = tf.keras.optimizers.SGD(lr=self._lr, clipnorm=max_grad_norm)\n",
        "\n",
        "        ##############################################################################\n",
        "        # Compiling and summarizing the model stacked using the keras sequential API #\n",
        "        ##############################################################################\n",
        "        self._model.compile(loss=self.crossentropy, optimizer=self._optimizer)\n",
        "        self._model.summary()\n",
        "\n",
        "    def crossentropy(self,y_true, y_pred):\n",
        "        return tf.keras.losses.sparse_categorical_crossentropy(y_true, y_pred)\n",
        "\n",
        "    def train_batch(self,_input_data,_targets):\n",
        "        #################################################\n",
        "        # Creating the Training Operation for our Model #\n",
        "        #################################################\n",
        "        # Create a variable for the learning rate\n",
        "        self._lr = tf.Variable(0.0, trainable=False)\n",
        "        # Get all TensorFlow variables marked as \"trainable\" (i.e. all of them except _lr, which we just created)\n",
        "        tvars = self._model.trainable_variables\n",
        "        # Define the gradient clipping threshold\n",
        "        with tf.GradientTape() as tape:\n",
        "            # Forward pass.\n",
        "            output_words_prob = self._model(_input_data)\n",
        "            # Loss value for this batch.\n",
        "            loss  = self.crossentropy(_targets, output_words_prob)\n",
        "            # average across batch and reduce sum\n",
        "            cost = tf.reduce_sum(loss / self.batch_size)\n",
        "        # Get gradients of loss wrt the trainable variables.\n",
        "        grad_t_list = tape.gradient(cost, tvars)\n",
        "        # Define the gradient clipping threshold\n",
        "        grads, _ = tf.clip_by_global_norm(grad_t_list, max_grad_norm)\n",
        "        # Create the training TensorFlow Operation through our optimizer\n",
        "        train_op = self._optimizer.apply_gradients(zip(grads, tvars))\n",
        "        return cost\n",
        "\n",
        "    def test_batch(self,_input_data,_targets):\n",
        "        #################################################\n",
        "        # Creating the Testing Operation for our Model #\n",
        "        #################################################\n",
        "        output_words_prob = self._model(_input_data)\n",
        "        loss  = self.crossentropy(_targets, output_words_prob)\n",
        "        # average across batch and reduce sum\n",
        "        cost = tf.reduce_sum(loss / self.batch_size)\n",
        "\n",
        "        return cost\n",
        "\n",
        "    @classmethod\n",
        "    def instance(cls):\n",
        "        return PTBModel()"
      ]
    },
    {
      "cell_type": "markdown",
      "metadata": {
        "id": "390635f8-2c08-419e-ba2a-5399e705bf72"
      },
      "source": [
        "With that, the actual structure of our Recurrent Neural Network with Long Short-Term Memory is finished. What remains for us to do is to actually create the methods to run through time -- that is, the <code>run_epoch</code> method to be run at each epoch and a <code>main</code> script which ties all of this together.\n",
        "\n",
        "What our <code>run_epoch</code> method should do is take our input data and feed it to the relevant operations. This will return at the very least the current result for the cost function.\n"
      ]
    },
    {
      "cell_type": "code",
      "execution_count": 51,
      "metadata": {
        "id": "d3940030-b235-4070-b1d1-6705497d9cdf"
      },
      "outputs": [],
      "source": [
        "########################################################################################################################\n",
        "# run_one_epoch takes as parameters  the model instance, the data to be fed, training or testing mode and verbose info #\n",
        "########################################################################################################################\n",
        "def run_one_epoch(m, data,is_training=True,verbose=False):\n",
        "    #Define the epoch size based on the length of the data, batch size and the number of steps\n",
        "    epoch_size = ((len(data) // m.batch_size) - 1) // m.num_steps\n",
        "    start_time = time.time()\n",
        "    costs = 0.\n",
        "    iters = 0\n",
        "\n",
        "    m._model.reset_states()\n",
        "\n",
        "    #For each step and data point\n",
        "    for step, (x, y) in enumerate(ptb_iterator(data, m.batch_size, m.num_steps)):\n",
        "        #Evaluate and return cost, state by running cost, final_state and the function passed as parameter\n",
        "        #y = tf.keras.utils.to_categorical(y, num_classes=vocab_size)\n",
        "        if is_training :\n",
        "            loss = m.train_batch(x, y)\n",
        "        else :\n",
        "            loss = m.test_batch(x, y)\n",
        "\n",
        "        #Add returned cost to costs (which keeps track of the total costs for this epoch)\n",
        "        costs += loss\n",
        "\n",
        "        #Add number of steps to iteration counter\n",
        "        iters += m.num_steps\n",
        "\n",
        "        if verbose and step % (epoch_size // 10) == 10:\n",
        "            print(\"Itr %d of %d, perplexity: %.3f, speed: %.0f wps\" % (step , epoch_size, np.exp(costs / iters), iters * m.batch_size / (time.time() - start_time)))\n",
        "\n",
        "    # Returns the Perplexity rating for us to keep track of how the model is evolving\n",
        "    return np.exp(costs / iters)"
      ]
    },
    {
      "cell_type": "markdown",
      "metadata": {
        "id": "223ade44-2816-4980-8d0b-8e0d9603b194"
      },
      "source": [
        "Now, we create the <code>main</code> method to tie everything together. The code here reads the data from the directory, using the <code>reader</code> helper module, and then trains and evaluates the model on both a testing and a validating subset of data.\n"
      ]
    },
    {
      "cell_type": "code",
      "execution_count": 52,
      "metadata": {
        "id": "6f28dd40-100a-45a0-b0d0-47854ed8ba28"
      },
      "outputs": [],
      "source": [
        "# Reads the data and separates it into training data, validation data and testing data\n",
        "raw_data = ptb_raw_data(data_dir)\n",
        "train_data, valid_data, test_data, _, _ = raw_data"
      ]
    },
    {
      "cell_type": "code",
      "execution_count": 53,
      "metadata": {
        "colab": {
          "base_uri": "https://localhost:8080/"
        },
        "id": "6b30cebd-6d2a-4e85-8e82-9b7232ad2351",
        "outputId": "487b5b2d-e126-4a0d-fc4f-5932386a907d"
      },
      "outputs": [
        {
          "name": "stderr",
          "output_type": "stream",
          "text": [
            "WARNING:absl:`lr` is deprecated in Keras optimizer, please use `learning_rate` or use the legacy optimizer, e.g.,tf.keras.optimizers.legacy.SGD.\n"
          ]
        },
        {
          "name": "stdout",
          "output_type": "stream",
          "text": [
            "Model: \"sequential_1\"\n",
            "_________________________________________________________________\n",
            " Layer (type)                Output Shape              Param #   \n",
            "=================================================================\n",
            " embedding_vocab (Embedding  (30, 20, 200)             2000000   \n",
            " )                                                               \n",
            "                                                                 \n",
            " rnn_1 (RNN)                 (30, 20, 128)             671088    \n",
            "                                                                 \n",
            " dense_1 (Dense)             (30, 20, 10000)           1290000   \n",
            "                                                                 \n",
            " activation_1 (Activation)   (30, 20, 10000)           0         \n",
            "                                                                 \n",
            "=================================================================\n",
            "Total params: 3961088 (15.11 MB)\n",
            "Trainable params: 3955088 (15.09 MB)\n",
            "Non-trainable params: 6000 (23.44 KB)\n",
            "_________________________________________________________________\n",
            "Epoch 1 : Learning rate: 1.000\n",
            "Itr 10 of 1549, perplexity: 4575.772, speed: 1815 wps\n",
            "Itr 164 of 1549, perplexity: 1103.939, speed: 2324 wps\n",
            "Itr 318 of 1549, perplexity: 851.460, speed: 2492 wps\n",
            "Itr 472 of 1549, perplexity: 706.368, speed: 2434 wps\n",
            "Itr 626 of 1549, perplexity: 604.289, speed: 2506 wps\n",
            "Itr 780 of 1549, perplexity: 537.599, speed: 2552 wps\n",
            "Itr 934 of 1549, perplexity: 485.506, speed: 2566 wps\n",
            "Itr 1088 of 1549, perplexity: 446.194, speed: 2602 wps\n",
            "Itr 1242 of 1549, perplexity: 415.782, speed: 2620 wps\n",
            "Itr 1396 of 1549, perplexity: 387.384, speed: 2633 wps\n",
            "Epoch 1 : Train Perplexity: 364.905\n",
            "Epoch 1 : Valid Perplexity: 216.447\n",
            "\n",
            "Epoch 2 : Learning rate: 1.000\n",
            "Itr 10 of 1549, perplexity: 239.779, speed: 2873 wps\n",
            "Itr 164 of 1549, perplexity: 214.148, speed: 2763 wps\n",
            "Itr 318 of 1549, perplexity: 205.790, speed: 2800 wps\n",
            "Itr 472 of 1549, perplexity: 197.701, speed: 2793 wps\n",
            "Itr 626 of 1549, perplexity: 188.674, speed: 2788 wps\n",
            "Itr 780 of 1549, perplexity: 184.747, speed: 2785 wps\n",
            "Itr 934 of 1549, perplexity: 180.745, speed: 2791 wps\n",
            "Itr 1088 of 1549, perplexity: 177.335, speed: 2785 wps\n",
            "Itr 1242 of 1549, perplexity: 174.875, speed: 2780 wps\n",
            "Itr 1396 of 1549, perplexity: 170.732, speed: 2777 wps\n",
            "Epoch 2 : Train Perplexity: 167.821\n",
            "Epoch 2 : Valid Perplexity: 163.566\n",
            "\n",
            "Test Perplexity: 158.941\n"
          ]
        }
      ],
      "source": [
        "# Instantiates the PTBModel class\n",
        "m = PTBModel.instance()\n",
        "K = tf.keras.backend\n",
        "\n",
        "for i in range(2):#(max_epoch):\n",
        "    # Define the decay for this epoch\n",
        "    lr_decay = decay ** max(i - max_epoch_decay_lr, 0.0)\n",
        "    dcr = learning_rate * lr_decay\n",
        "    m._lr = dcr\n",
        "    K.set_value(m._model.optimizer.learning_rate, m._lr)\n",
        "    print(\"Epoch %d : Learning rate: %.3f\" % (i + 1, m._model.optimizer.learning_rate))\n",
        "    # Run the loop for this epoch in the training mode\n",
        "    train_perplexity = run_one_epoch(m, train_data,is_training=True, verbose=True)\n",
        "    print(\"Epoch %d : Train Perplexity: %.3f\" % (i + 1, train_perplexity))\n",
        "\n",
        "    # Run the loop for this epoch in the validation mode\n",
        "    valid_perplexity = run_one_epoch(m, valid_data,is_training=False, verbose=False)\n",
        "    print(\"Epoch %d : Valid Perplexity: %.3f\\n\" % (i + 1, valid_perplexity))\n",
        "\n",
        "# Run the loop in the testing mode to see how effective was our training\n",
        "test_perplexity = run_one_epoch(m, test_data, is_training=False, verbose=False)\n",
        "print(\"Test Perplexity: %.3f\" % test_perplexity)"
      ]
    },
    {
      "cell_type": "markdown",
      "metadata": {
        "id": "d0ffa21d-fb29-473b-aa47-172f2a6c48e7"
      },
      "source": [
        "As you can see, the model's perplexity rating drops very quickly after a few iterations. As was elaborated before, <b>lower Perplexity means that the model is more certain about its prediction</b>. As such, we can be sure that this model is performing well!\n"
      ]
    },
    {
      "cell_type": "markdown",
      "metadata": {
        "id": "75aa4c6f-0e60-4228-a036-ef701ed25a99"
      },
      "source": [
        "-------\n"
      ]
    },
    {
      "cell_type": "code",
      "execution_count": 54,
      "metadata": {
        "id": "WZWiRanokHvl"
      },
      "outputs": [],
      "source": [
        "!rm -rf data/"
      ]
    },
    {
      "cell_type": "markdown",
      "metadata": {
        "id": "3d868d76-16b0-4a81-9078-5db192736a5f"
      },
      "source": [
        "This is the end of the <b>Applying Recurrent Neural Networks to Text Processing</b> notebook. Hopefully you now have a better understanding of Recurrent Neural Networks and how to implement one utilizing TensorFlow. Thank you for reading this notebook, and good luck on your studies.\n"
      ]
    },
    {
      "cell_type": "markdown",
      "metadata": {
        "id": "bc1e2eb3-712c-4906-b6f3-9a9c638d565a"
      },
      "source": [
        "## Want to learn more?\n",
        "\n",
        "Also, you can use __Watson Studio__ to run these notebooks faster with bigger datasets.__Watson Studio__ is IBM’s leading cloud solution for data scientists, built by data scientists. With Jupyter notebooks, RStudio, Apache Spark and popular libraries pre-packaged in the cloud, __Watson Studio__ enables data scientists to collaborate on their projects without having to install anything. Join the fast-growing community of __Watson Studio__ users today with a free account at [Watson Studio](https://cocl.us/ML0120EN_DSX).This is the end of this lesson. Thank you for reading this notebook, and good luck on your studies.\n"
      ]
    },
    {
      "cell_type": "markdown",
      "metadata": {
        "id": "68a58147-f074-49e2-a1c0-f691629de7a0"
      },
      "source": [
        "### Thanks for completing this lesson!\n",
        "\n",
        "Notebook created by <a href=\"https://br.linkedin.com/in/walter-gomes-de-amorim-junior-624726121?utm_medium=Exinfluencer&utm_source=Exinfluencer&utm_content=000026UJ&utm_term=10006555&utm_id=NA-SkillsNetwork-Channel-SkillsNetworkCoursesIBMDeveloperSkillsNetworkDL0120ENSkillsNetwork954-2023-01-01\">Walter Gomes de Amorim Junior</a>, <a href = \"https://linkedin.com/in/saeedaghabozorgi\"> Saeed Aghabozorgi </a></h4>\n",
        "\n",
        "\n",
        "Updated to TF 2.X by  <a href=\"https://www.linkedin.com/in/samaya-madhavan?utm_medium=Exinfluencer&utm_source=Exinfluencer&utm_content=000026UJ&utm_term=10006555&utm_id=NA-SkillsNetwork-Channel-SkillsNetworkCoursesIBMDeveloperSkillsNetworkDL0120ENSkillsNetwork954-2023-01-01\"> Samaya Madhavan </a>\n"
      ]
    },
    {
      "cell_type": "markdown",
      "metadata": {
        "id": "292dbe61-8c8c-4421-a445-1f05665a5340"
      },
      "source": [
        "<hr>\n",
        "\n",
        "Copyright &copy; 2018 [Cognitive Class](https://cocl.us/DX0108EN_CC). This notebook and its source code are released under the terms of the [MIT License](https://bigdatauniversity.com/mit-license/?utm_medium=Exinfluencer&utm_source=Exinfluencer&utm_content=000026UJ&utm_term=10006555&utm_id=NA-SkillsNetwork-Channel-SkillsNetworkCoursesIBMDeveloperSkillsNetworkDL0120ENSkillsNetwork954-2023-01-01).\n"
      ]
    }
  ],
  "metadata": {
    "accelerator": "GPU",
    "colab": {
      "gpuType": "T4",
      "provenance": []
    },
    "kernelspec": {
      "display_name": "Python 3",
      "name": "python3"
    },
    "language_info": {
      "codemirror_mode": {
        "name": "ipython",
        "version": 3
      },
      "file_extension": ".py",
      "mimetype": "text/x-python",
      "name": "python",
      "nbconvert_exporter": "python",
      "pygments_lexer": "ipython3",
      "version": "3.11.5"
    }
  },
  "nbformat": 4,
  "nbformat_minor": 0
}
